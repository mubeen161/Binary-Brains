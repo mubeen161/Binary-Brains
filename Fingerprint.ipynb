{
 "cells": [
  {
   "cell_type": "markdown",
   "metadata": {
    "id": "GnBssH7U2haj"
   },
   "source": [
    "## Finger Print Detection\n",
    "![fg.jpg](data:image/jpeg;base64,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)"
   ]
  },
  {
   "cell_type": "markdown",
   "metadata": {
    "id": "h5FzYwY8y6Jp"
   },
   "source": [
    "### Importing all the Necessary libraries.."
   ]
  },
  {
   "cell_type": "code",
   "execution_count": 2,
   "metadata": {
    "id": "xVzXm4Gcbjlz"
   },
   "outputs": [],
   "source": [
    "from keras.applications.resnet50 import ResNet50,preprocess_input"
   ]
  },
  {
   "cell_type": "code",
   "execution_count": 3,
   "metadata": {
    "id": "amGaJiOVbzni"
   },
   "outputs": [],
   "source": [
    "from keras.preprocessing import image\n",
    "import numpy as np"
   ]
  },
  {
   "cell_type": "code",
   "execution_count": 4,
   "metadata": {
    "id": "86ukCerfb3Vc"
   },
   "outputs": [],
   "source": [
    "from keras.layers import Input, Lambda, Dense, Flatten\n",
    "from keras.models import Model\n",
    "from keras.preprocessing.image import ImageDataGenerator\n",
    "from keras.models import Sequential\n",
    "from glob import glob\n",
    "import matplotlib.pyplot as plt"
   ]
  },
  {
   "cell_type": "markdown",
   "metadata": {
    "id": "GpFyKufq220v"
   },
   "source": [
    "### ResNet 50 Model Description"
   ]
  },
  {
   "cell_type": "code",
   "execution_count": 5,
   "metadata": {
    "colab": {
     "base_uri": "https://localhost:8080/"
    },
    "id": "9_uULIIdb7Tj",
    "outputId": "15964155-41f5-4479-d652-3f9cfb2f1d69"
   },
   "outputs": [
    {
     "name": "stdout",
     "output_type": "stream",
     "text": [
      "Downloading data from https://storage.googleapis.com/tensorflow/keras-applications/resnet/resnet50_weights_tf_dim_ordering_tf_kernels.h5\n",
      "102973440/102967424 [==============================] - 2s 0us/step\n"
     ]
    }
   ],
   "source": [
    "#vgg16_model=VGG16()\n",
    "resnet_model=ResNet50()"
   ]
  },
  {
   "cell_type": "code",
   "execution_count": 6,
   "metadata": {
    "colab": {
     "base_uri": "https://localhost:8080/"
    },
    "id": "0H_aux1ccDAf",
    "outputId": "e421647e-30bc-4cff-e544-0010c05eb1c9"
   },
   "outputs": [
    {
     "name": "stdout",
     "output_type": "stream",
     "text": [
      "Model: \"resnet50\"\n",
      "__________________________________________________________________________________________________\n",
      "Layer (type)                    Output Shape         Param #     Connected to                     \n",
      "==================================================================================================\n",
      "input_1 (InputLayer)            [(None, 224, 224, 3) 0                                            \n",
      "__________________________________________________________________________________________________\n",
      "conv1_pad (ZeroPadding2D)       (None, 230, 230, 3)  0           input_1[0][0]                    \n",
      "__________________________________________________________________________________________________\n",
      "conv1_conv (Conv2D)             (None, 112, 112, 64) 9472        conv1_pad[0][0]                  \n",
      "__________________________________________________________________________________________________\n",
      "conv1_bn (BatchNormalization)   (None, 112, 112, 64) 256         conv1_conv[0][0]                 \n",
      "__________________________________________________________________________________________________\n",
      "conv1_relu (Activation)         (None, 112, 112, 64) 0           conv1_bn[0][0]                   \n",
      "__________________________________________________________________________________________________\n",
      "pool1_pad (ZeroPadding2D)       (None, 114, 114, 64) 0           conv1_relu[0][0]                 \n",
      "__________________________________________________________________________________________________\n",
      "pool1_pool (MaxPooling2D)       (None, 56, 56, 64)   0           pool1_pad[0][0]                  \n",
      "__________________________________________________________________________________________________\n",
      "conv2_block1_1_conv (Conv2D)    (None, 56, 56, 64)   4160        pool1_pool[0][0]                 \n",
      "__________________________________________________________________________________________________\n",
      "conv2_block1_1_bn (BatchNormali (None, 56, 56, 64)   256         conv2_block1_1_conv[0][0]        \n",
      "__________________________________________________________________________________________________\n",
      "conv2_block1_1_relu (Activation (None, 56, 56, 64)   0           conv2_block1_1_bn[0][0]          \n",
      "__________________________________________________________________________________________________\n",
      "conv2_block1_2_conv (Conv2D)    (None, 56, 56, 64)   36928       conv2_block1_1_relu[0][0]        \n",
      "__________________________________________________________________________________________________\n",
      "conv2_block1_2_bn (BatchNormali (None, 56, 56, 64)   256         conv2_block1_2_conv[0][0]        \n",
      "__________________________________________________________________________________________________\n",
      "conv2_block1_2_relu (Activation (None, 56, 56, 64)   0           conv2_block1_2_bn[0][0]          \n",
      "__________________________________________________________________________________________________\n",
      "conv2_block1_0_conv (Conv2D)    (None, 56, 56, 256)  16640       pool1_pool[0][0]                 \n",
      "__________________________________________________________________________________________________\n",
      "conv2_block1_3_conv (Conv2D)    (None, 56, 56, 256)  16640       conv2_block1_2_relu[0][0]        \n",
      "__________________________________________________________________________________________________\n",
      "conv2_block1_0_bn (BatchNormali (None, 56, 56, 256)  1024        conv2_block1_0_conv[0][0]        \n",
      "__________________________________________________________________________________________________\n",
      "conv2_block1_3_bn (BatchNormali (None, 56, 56, 256)  1024        conv2_block1_3_conv[0][0]        \n",
      "__________________________________________________________________________________________________\n",
      "conv2_block1_add (Add)          (None, 56, 56, 256)  0           conv2_block1_0_bn[0][0]          \n",
      "                                                                 conv2_block1_3_bn[0][0]          \n",
      "__________________________________________________________________________________________________\n",
      "conv2_block1_out (Activation)   (None, 56, 56, 256)  0           conv2_block1_add[0][0]           \n",
      "__________________________________________________________________________________________________\n",
      "conv2_block2_1_conv (Conv2D)    (None, 56, 56, 64)   16448       conv2_block1_out[0][0]           \n",
      "__________________________________________________________________________________________________\n",
      "conv2_block2_1_bn (BatchNormali (None, 56, 56, 64)   256         conv2_block2_1_conv[0][0]        \n",
      "__________________________________________________________________________________________________\n",
      "conv2_block2_1_relu (Activation (None, 56, 56, 64)   0           conv2_block2_1_bn[0][0]          \n",
      "__________________________________________________________________________________________________\n",
      "conv2_block2_2_conv (Conv2D)    (None, 56, 56, 64)   36928       conv2_block2_1_relu[0][0]        \n",
      "__________________________________________________________________________________________________\n",
      "conv2_block2_2_bn (BatchNormali (None, 56, 56, 64)   256         conv2_block2_2_conv[0][0]        \n",
      "__________________________________________________________________________________________________\n",
      "conv2_block2_2_relu (Activation (None, 56, 56, 64)   0           conv2_block2_2_bn[0][0]          \n",
      "__________________________________________________________________________________________________\n",
      "conv2_block2_3_conv (Conv2D)    (None, 56, 56, 256)  16640       conv2_block2_2_relu[0][0]        \n",
      "__________________________________________________________________________________________________\n",
      "conv2_block2_3_bn (BatchNormali (None, 56, 56, 256)  1024        conv2_block2_3_conv[0][0]        \n",
      "__________________________________________________________________________________________________\n",
      "conv2_block2_add (Add)          (None, 56, 56, 256)  0           conv2_block1_out[0][0]           \n",
      "                                                                 conv2_block2_3_bn[0][0]          \n",
      "__________________________________________________________________________________________________\n",
      "conv2_block2_out (Activation)   (None, 56, 56, 256)  0           conv2_block2_add[0][0]           \n",
      "__________________________________________________________________________________________________\n",
      "conv2_block3_1_conv (Conv2D)    (None, 56, 56, 64)   16448       conv2_block2_out[0][0]           \n",
      "__________________________________________________________________________________________________\n",
      "conv2_block3_1_bn (BatchNormali (None, 56, 56, 64)   256         conv2_block3_1_conv[0][0]        \n",
      "__________________________________________________________________________________________________\n",
      "conv2_block3_1_relu (Activation (None, 56, 56, 64)   0           conv2_block3_1_bn[0][0]          \n",
      "__________________________________________________________________________________________________\n",
      "conv2_block3_2_conv (Conv2D)    (None, 56, 56, 64)   36928       conv2_block3_1_relu[0][0]        \n",
      "__________________________________________________________________________________________________\n",
      "conv2_block3_2_bn (BatchNormali (None, 56, 56, 64)   256         conv2_block3_2_conv[0][0]        \n",
      "__________________________________________________________________________________________________\n",
      "conv2_block3_2_relu (Activation (None, 56, 56, 64)   0           conv2_block3_2_bn[0][0]          \n",
      "__________________________________________________________________________________________________\n",
      "conv2_block3_3_conv (Conv2D)    (None, 56, 56, 256)  16640       conv2_block3_2_relu[0][0]        \n",
      "__________________________________________________________________________________________________\n",
      "conv2_block3_3_bn (BatchNormali (None, 56, 56, 256)  1024        conv2_block3_3_conv[0][0]        \n",
      "__________________________________________________________________________________________________\n",
      "conv2_block3_add (Add)          (None, 56, 56, 256)  0           conv2_block2_out[0][0]           \n",
      "                                                                 conv2_block3_3_bn[0][0]          \n",
      "__________________________________________________________________________________________________\n",
      "conv2_block3_out (Activation)   (None, 56, 56, 256)  0           conv2_block3_add[0][0]           \n",
      "__________________________________________________________________________________________________\n",
      "conv3_block1_1_conv (Conv2D)    (None, 28, 28, 128)  32896       conv2_block3_out[0][0]           \n",
      "__________________________________________________________________________________________________\n",
      "conv3_block1_1_bn (BatchNormali (None, 28, 28, 128)  512         conv3_block1_1_conv[0][0]        \n",
      "__________________________________________________________________________________________________\n",
      "conv3_block1_1_relu (Activation (None, 28, 28, 128)  0           conv3_block1_1_bn[0][0]          \n",
      "__________________________________________________________________________________________________\n",
      "conv3_block1_2_conv (Conv2D)    (None, 28, 28, 128)  147584      conv3_block1_1_relu[0][0]        \n",
      "__________________________________________________________________________________________________\n",
      "conv3_block1_2_bn (BatchNormali (None, 28, 28, 128)  512         conv3_block1_2_conv[0][0]        \n",
      "__________________________________________________________________________________________________\n",
      "conv3_block1_2_relu (Activation (None, 28, 28, 128)  0           conv3_block1_2_bn[0][0]          \n",
      "__________________________________________________________________________________________________\n",
      "conv3_block1_0_conv (Conv2D)    (None, 28, 28, 512)  131584      conv2_block3_out[0][0]           \n",
      "__________________________________________________________________________________________________\n",
      "conv3_block1_3_conv (Conv2D)    (None, 28, 28, 512)  66048       conv3_block1_2_relu[0][0]        \n",
      "__________________________________________________________________________________________________\n",
      "conv3_block1_0_bn (BatchNormali (None, 28, 28, 512)  2048        conv3_block1_0_conv[0][0]        \n",
      "__________________________________________________________________________________________________\n",
      "conv3_block1_3_bn (BatchNormali (None, 28, 28, 512)  2048        conv3_block1_3_conv[0][0]        \n",
      "__________________________________________________________________________________________________\n",
      "conv3_block1_add (Add)          (None, 28, 28, 512)  0           conv3_block1_0_bn[0][0]          \n",
      "                                                                 conv3_block1_3_bn[0][0]          \n",
      "__________________________________________________________________________________________________\n",
      "conv3_block1_out (Activation)   (None, 28, 28, 512)  0           conv3_block1_add[0][0]           \n",
      "__________________________________________________________________________________________________\n",
      "conv3_block2_1_conv (Conv2D)    (None, 28, 28, 128)  65664       conv3_block1_out[0][0]           \n",
      "__________________________________________________________________________________________________\n",
      "conv3_block2_1_bn (BatchNormali (None, 28, 28, 128)  512         conv3_block2_1_conv[0][0]        \n",
      "__________________________________________________________________________________________________\n",
      "conv3_block2_1_relu (Activation (None, 28, 28, 128)  0           conv3_block2_1_bn[0][0]          \n",
      "__________________________________________________________________________________________________\n",
      "conv3_block2_2_conv (Conv2D)    (None, 28, 28, 128)  147584      conv3_block2_1_relu[0][0]        \n",
      "__________________________________________________________________________________________________\n",
      "conv3_block2_2_bn (BatchNormali (None, 28, 28, 128)  512         conv3_block2_2_conv[0][0]        \n",
      "__________________________________________________________________________________________________\n",
      "conv3_block2_2_relu (Activation (None, 28, 28, 128)  0           conv3_block2_2_bn[0][0]          \n",
      "__________________________________________________________________________________________________\n",
      "conv3_block2_3_conv (Conv2D)    (None, 28, 28, 512)  66048       conv3_block2_2_relu[0][0]        \n",
      "__________________________________________________________________________________________________\n",
      "conv3_block2_3_bn (BatchNormali (None, 28, 28, 512)  2048        conv3_block2_3_conv[0][0]        \n",
      "__________________________________________________________________________________________________\n",
      "conv3_block2_add (Add)          (None, 28, 28, 512)  0           conv3_block1_out[0][0]           \n",
      "                                                                 conv3_block2_3_bn[0][0]          \n",
      "__________________________________________________________________________________________________\n",
      "conv3_block2_out (Activation)   (None, 28, 28, 512)  0           conv3_block2_add[0][0]           \n",
      "__________________________________________________________________________________________________\n",
      "conv3_block3_1_conv (Conv2D)    (None, 28, 28, 128)  65664       conv3_block2_out[0][0]           \n",
      "__________________________________________________________________________________________________\n",
      "conv3_block3_1_bn (BatchNormali (None, 28, 28, 128)  512         conv3_block3_1_conv[0][0]        \n",
      "__________________________________________________________________________________________________\n",
      "conv3_block3_1_relu (Activation (None, 28, 28, 128)  0           conv3_block3_1_bn[0][0]          \n",
      "__________________________________________________________________________________________________\n",
      "conv3_block3_2_conv (Conv2D)    (None, 28, 28, 128)  147584      conv3_block3_1_relu[0][0]        \n",
      "__________________________________________________________________________________________________\n",
      "conv3_block3_2_bn (BatchNormali (None, 28, 28, 128)  512         conv3_block3_2_conv[0][0]        \n",
      "__________________________________________________________________________________________________\n",
      "conv3_block3_2_relu (Activation (None, 28, 28, 128)  0           conv3_block3_2_bn[0][0]          \n",
      "__________________________________________________________________________________________________\n",
      "conv3_block3_3_conv (Conv2D)    (None, 28, 28, 512)  66048       conv3_block3_2_relu[0][0]        \n",
      "__________________________________________________________________________________________________\n",
      "conv3_block3_3_bn (BatchNormali (None, 28, 28, 512)  2048        conv3_block3_3_conv[0][0]        \n",
      "__________________________________________________________________________________________________\n",
      "conv3_block3_add (Add)          (None, 28, 28, 512)  0           conv3_block2_out[0][0]           \n",
      "                                                                 conv3_block3_3_bn[0][0]          \n",
      "__________________________________________________________________________________________________\n",
      "conv3_block3_out (Activation)   (None, 28, 28, 512)  0           conv3_block3_add[0][0]           \n",
      "__________________________________________________________________________________________________\n",
      "conv3_block4_1_conv (Conv2D)    (None, 28, 28, 128)  65664       conv3_block3_out[0][0]           \n",
      "__________________________________________________________________________________________________\n",
      "conv3_block4_1_bn (BatchNormali (None, 28, 28, 128)  512         conv3_block4_1_conv[0][0]        \n",
      "__________________________________________________________________________________________________\n",
      "conv3_block4_1_relu (Activation (None, 28, 28, 128)  0           conv3_block4_1_bn[0][0]          \n",
      "__________________________________________________________________________________________________\n",
      "conv3_block4_2_conv (Conv2D)    (None, 28, 28, 128)  147584      conv3_block4_1_relu[0][0]        \n",
      "__________________________________________________________________________________________________\n",
      "conv3_block4_2_bn (BatchNormali (None, 28, 28, 128)  512         conv3_block4_2_conv[0][0]        \n",
      "__________________________________________________________________________________________________\n",
      "conv3_block4_2_relu (Activation (None, 28, 28, 128)  0           conv3_block4_2_bn[0][0]          \n",
      "__________________________________________________________________________________________________\n",
      "conv3_block4_3_conv (Conv2D)    (None, 28, 28, 512)  66048       conv3_block4_2_relu[0][0]        \n",
      "__________________________________________________________________________________________________\n",
      "conv3_block4_3_bn (BatchNormali (None, 28, 28, 512)  2048        conv3_block4_3_conv[0][0]        \n",
      "__________________________________________________________________________________________________\n",
      "conv3_block4_add (Add)          (None, 28, 28, 512)  0           conv3_block3_out[0][0]           \n",
      "                                                                 conv3_block4_3_bn[0][0]          \n",
      "__________________________________________________________________________________________________\n",
      "conv3_block4_out (Activation)   (None, 28, 28, 512)  0           conv3_block4_add[0][0]           \n",
      "__________________________________________________________________________________________________\n",
      "conv4_block1_1_conv (Conv2D)    (None, 14, 14, 256)  131328      conv3_block4_out[0][0]           \n",
      "__________________________________________________________________________________________________\n",
      "conv4_block1_1_bn (BatchNormali (None, 14, 14, 256)  1024        conv4_block1_1_conv[0][0]        \n",
      "__________________________________________________________________________________________________\n",
      "conv4_block1_1_relu (Activation (None, 14, 14, 256)  0           conv4_block1_1_bn[0][0]          \n",
      "__________________________________________________________________________________________________\n",
      "conv4_block1_2_conv (Conv2D)    (None, 14, 14, 256)  590080      conv4_block1_1_relu[0][0]        \n",
      "__________________________________________________________________________________________________\n",
      "conv4_block1_2_bn (BatchNormali (None, 14, 14, 256)  1024        conv4_block1_2_conv[0][0]        \n",
      "__________________________________________________________________________________________________\n",
      "conv4_block1_2_relu (Activation (None, 14, 14, 256)  0           conv4_block1_2_bn[0][0]          \n",
      "__________________________________________________________________________________________________\n",
      "conv4_block1_0_conv (Conv2D)    (None, 14, 14, 1024) 525312      conv3_block4_out[0][0]           \n",
      "__________________________________________________________________________________________________\n",
      "conv4_block1_3_conv (Conv2D)    (None, 14, 14, 1024) 263168      conv4_block1_2_relu[0][0]        \n",
      "__________________________________________________________________________________________________\n",
      "conv4_block1_0_bn (BatchNormali (None, 14, 14, 1024) 4096        conv4_block1_0_conv[0][0]        \n",
      "__________________________________________________________________________________________________\n",
      "conv4_block1_3_bn (BatchNormali (None, 14, 14, 1024) 4096        conv4_block1_3_conv[0][0]        \n",
      "__________________________________________________________________________________________________\n",
      "conv4_block1_add (Add)          (None, 14, 14, 1024) 0           conv4_block1_0_bn[0][0]          \n",
      "                                                                 conv4_block1_3_bn[0][0]          \n",
      "__________________________________________________________________________________________________\n",
      "conv4_block1_out (Activation)   (None, 14, 14, 1024) 0           conv4_block1_add[0][0]           \n",
      "__________________________________________________________________________________________________\n",
      "conv4_block2_1_conv (Conv2D)    (None, 14, 14, 256)  262400      conv4_block1_out[0][0]           \n",
      "__________________________________________________________________________________________________\n",
      "conv4_block2_1_bn (BatchNormali (None, 14, 14, 256)  1024        conv4_block2_1_conv[0][0]        \n",
      "__________________________________________________________________________________________________\n",
      "conv4_block2_1_relu (Activation (None, 14, 14, 256)  0           conv4_block2_1_bn[0][0]          \n",
      "__________________________________________________________________________________________________\n",
      "conv4_block2_2_conv (Conv2D)    (None, 14, 14, 256)  590080      conv4_block2_1_relu[0][0]        \n",
      "__________________________________________________________________________________________________\n",
      "conv4_block2_2_bn (BatchNormali (None, 14, 14, 256)  1024        conv4_block2_2_conv[0][0]        \n",
      "__________________________________________________________________________________________________\n",
      "conv4_block2_2_relu (Activation (None, 14, 14, 256)  0           conv4_block2_2_bn[0][0]          \n",
      "__________________________________________________________________________________________________\n",
      "conv4_block2_3_conv (Conv2D)    (None, 14, 14, 1024) 263168      conv4_block2_2_relu[0][0]        \n",
      "__________________________________________________________________________________________________\n",
      "conv4_block2_3_bn (BatchNormali (None, 14, 14, 1024) 4096        conv4_block2_3_conv[0][0]        \n",
      "__________________________________________________________________________________________________\n",
      "conv4_block2_add (Add)          (None, 14, 14, 1024) 0           conv4_block1_out[0][0]           \n",
      "                                                                 conv4_block2_3_bn[0][0]          \n",
      "__________________________________________________________________________________________________\n",
      "conv4_block2_out (Activation)   (None, 14, 14, 1024) 0           conv4_block2_add[0][0]           \n",
      "__________________________________________________________________________________________________\n",
      "conv4_block3_1_conv (Conv2D)    (None, 14, 14, 256)  262400      conv4_block2_out[0][0]           \n",
      "__________________________________________________________________________________________________\n",
      "conv4_block3_1_bn (BatchNormali (None, 14, 14, 256)  1024        conv4_block3_1_conv[0][0]        \n",
      "__________________________________________________________________________________________________\n",
      "conv4_block3_1_relu (Activation (None, 14, 14, 256)  0           conv4_block3_1_bn[0][0]          \n",
      "__________________________________________________________________________________________________\n",
      "conv4_block3_2_conv (Conv2D)    (None, 14, 14, 256)  590080      conv4_block3_1_relu[0][0]        \n",
      "__________________________________________________________________________________________________\n",
      "conv4_block3_2_bn (BatchNormali (None, 14, 14, 256)  1024        conv4_block3_2_conv[0][0]        \n",
      "__________________________________________________________________________________________________\n",
      "conv4_block3_2_relu (Activation (None, 14, 14, 256)  0           conv4_block3_2_bn[0][0]          \n",
      "__________________________________________________________________________________________________\n",
      "conv4_block3_3_conv (Conv2D)    (None, 14, 14, 1024) 263168      conv4_block3_2_relu[0][0]        \n",
      "__________________________________________________________________________________________________\n",
      "conv4_block3_3_bn (BatchNormali (None, 14, 14, 1024) 4096        conv4_block3_3_conv[0][0]        \n",
      "__________________________________________________________________________________________________\n",
      "conv4_block3_add (Add)          (None, 14, 14, 1024) 0           conv4_block2_out[0][0]           \n",
      "                                                                 conv4_block3_3_bn[0][0]          \n",
      "__________________________________________________________________________________________________\n",
      "conv4_block3_out (Activation)   (None, 14, 14, 1024) 0           conv4_block3_add[0][0]           \n",
      "__________________________________________________________________________________________________\n",
      "conv4_block4_1_conv (Conv2D)    (None, 14, 14, 256)  262400      conv4_block3_out[0][0]           \n",
      "__________________________________________________________________________________________________\n",
      "conv4_block4_1_bn (BatchNormali (None, 14, 14, 256)  1024        conv4_block4_1_conv[0][0]        \n",
      "__________________________________________________________________________________________________\n",
      "conv4_block4_1_relu (Activation (None, 14, 14, 256)  0           conv4_block4_1_bn[0][0]          \n",
      "__________________________________________________________________________________________________\n",
      "conv4_block4_2_conv (Conv2D)    (None, 14, 14, 256)  590080      conv4_block4_1_relu[0][0]        \n",
      "__________________________________________________________________________________________________\n",
      "conv4_block4_2_bn (BatchNormali (None, 14, 14, 256)  1024        conv4_block4_2_conv[0][0]        \n",
      "__________________________________________________________________________________________________\n",
      "conv4_block4_2_relu (Activation (None, 14, 14, 256)  0           conv4_block4_2_bn[0][0]          \n",
      "__________________________________________________________________________________________________\n",
      "conv4_block4_3_conv (Conv2D)    (None, 14, 14, 1024) 263168      conv4_block4_2_relu[0][0]        \n",
      "__________________________________________________________________________________________________\n",
      "conv4_block4_3_bn (BatchNormali (None, 14, 14, 1024) 4096        conv4_block4_3_conv[0][0]        \n",
      "__________________________________________________________________________________________________\n",
      "conv4_block4_add (Add)          (None, 14, 14, 1024) 0           conv4_block3_out[0][0]           \n",
      "                                                                 conv4_block4_3_bn[0][0]          \n",
      "__________________________________________________________________________________________________\n",
      "conv4_block4_out (Activation)   (None, 14, 14, 1024) 0           conv4_block4_add[0][0]           \n",
      "__________________________________________________________________________________________________\n",
      "conv4_block5_1_conv (Conv2D)    (None, 14, 14, 256)  262400      conv4_block4_out[0][0]           \n",
      "__________________________________________________________________________________________________\n",
      "conv4_block5_1_bn (BatchNormali (None, 14, 14, 256)  1024        conv4_block5_1_conv[0][0]        \n",
      "__________________________________________________________________________________________________\n",
      "conv4_block5_1_relu (Activation (None, 14, 14, 256)  0           conv4_block5_1_bn[0][0]          \n",
      "__________________________________________________________________________________________________\n",
      "conv4_block5_2_conv (Conv2D)    (None, 14, 14, 256)  590080      conv4_block5_1_relu[0][0]        \n",
      "__________________________________________________________________________________________________\n",
      "conv4_block5_2_bn (BatchNormali (None, 14, 14, 256)  1024        conv4_block5_2_conv[0][0]        \n",
      "__________________________________________________________________________________________________\n",
      "conv4_block5_2_relu (Activation (None, 14, 14, 256)  0           conv4_block5_2_bn[0][0]          \n",
      "__________________________________________________________________________________________________\n",
      "conv4_block5_3_conv (Conv2D)    (None, 14, 14, 1024) 263168      conv4_block5_2_relu[0][0]        \n",
      "__________________________________________________________________________________________________\n",
      "conv4_block5_3_bn (BatchNormali (None, 14, 14, 1024) 4096        conv4_block5_3_conv[0][0]        \n",
      "__________________________________________________________________________________________________\n",
      "conv4_block5_add (Add)          (None, 14, 14, 1024) 0           conv4_block4_out[0][0]           \n",
      "                                                                 conv4_block5_3_bn[0][0]          \n",
      "__________________________________________________________________________________________________\n",
      "conv4_block5_out (Activation)   (None, 14, 14, 1024) 0           conv4_block5_add[0][0]           \n",
      "__________________________________________________________________________________________________\n",
      "conv4_block6_1_conv (Conv2D)    (None, 14, 14, 256)  262400      conv4_block5_out[0][0]           \n",
      "__________________________________________________________________________________________________\n",
      "conv4_block6_1_bn (BatchNormali (None, 14, 14, 256)  1024        conv4_block6_1_conv[0][0]        \n",
      "__________________________________________________________________________________________________\n",
      "conv4_block6_1_relu (Activation (None, 14, 14, 256)  0           conv4_block6_1_bn[0][0]          \n",
      "__________________________________________________________________________________________________\n",
      "conv4_block6_2_conv (Conv2D)    (None, 14, 14, 256)  590080      conv4_block6_1_relu[0][0]        \n",
      "__________________________________________________________________________________________________\n",
      "conv4_block6_2_bn (BatchNormali (None, 14, 14, 256)  1024        conv4_block6_2_conv[0][0]        \n",
      "__________________________________________________________________________________________________\n",
      "conv4_block6_2_relu (Activation (None, 14, 14, 256)  0           conv4_block6_2_bn[0][0]          \n",
      "__________________________________________________________________________________________________\n",
      "conv4_block6_3_conv (Conv2D)    (None, 14, 14, 1024) 263168      conv4_block6_2_relu[0][0]        \n",
      "__________________________________________________________________________________________________\n",
      "conv4_block6_3_bn (BatchNormali (None, 14, 14, 1024) 4096        conv4_block6_3_conv[0][0]        \n",
      "__________________________________________________________________________________________________\n",
      "conv4_block6_add (Add)          (None, 14, 14, 1024) 0           conv4_block5_out[0][0]           \n",
      "                                                                 conv4_block6_3_bn[0][0]          \n",
      "__________________________________________________________________________________________________\n",
      "conv4_block6_out (Activation)   (None, 14, 14, 1024) 0           conv4_block6_add[0][0]           \n",
      "__________________________________________________________________________________________________\n",
      "conv5_block1_1_conv (Conv2D)    (None, 7, 7, 512)    524800      conv4_block6_out[0][0]           \n",
      "__________________________________________________________________________________________________\n",
      "conv5_block1_1_bn (BatchNormali (None, 7, 7, 512)    2048        conv5_block1_1_conv[0][0]        \n",
      "__________________________________________________________________________________________________\n",
      "conv5_block1_1_relu (Activation (None, 7, 7, 512)    0           conv5_block1_1_bn[0][0]          \n",
      "__________________________________________________________________________________________________\n",
      "conv5_block1_2_conv (Conv2D)    (None, 7, 7, 512)    2359808     conv5_block1_1_relu[0][0]        \n",
      "__________________________________________________________________________________________________\n",
      "conv5_block1_2_bn (BatchNormali (None, 7, 7, 512)    2048        conv5_block1_2_conv[0][0]        \n",
      "__________________________________________________________________________________________________\n",
      "conv5_block1_2_relu (Activation (None, 7, 7, 512)    0           conv5_block1_2_bn[0][0]          \n",
      "__________________________________________________________________________________________________\n",
      "conv5_block1_0_conv (Conv2D)    (None, 7, 7, 2048)   2099200     conv4_block6_out[0][0]           \n",
      "__________________________________________________________________________________________________\n",
      "conv5_block1_3_conv (Conv2D)    (None, 7, 7, 2048)   1050624     conv5_block1_2_relu[0][0]        \n",
      "__________________________________________________________________________________________________\n",
      "conv5_block1_0_bn (BatchNormali (None, 7, 7, 2048)   8192        conv5_block1_0_conv[0][0]        \n",
      "__________________________________________________________________________________________________\n",
      "conv5_block1_3_bn (BatchNormali (None, 7, 7, 2048)   8192        conv5_block1_3_conv[0][0]        \n",
      "__________________________________________________________________________________________________\n",
      "conv5_block1_add (Add)          (None, 7, 7, 2048)   0           conv5_block1_0_bn[0][0]          \n",
      "                                                                 conv5_block1_3_bn[0][0]          \n",
      "__________________________________________________________________________________________________\n",
      "conv5_block1_out (Activation)   (None, 7, 7, 2048)   0           conv5_block1_add[0][0]           \n",
      "__________________________________________________________________________________________________\n",
      "conv5_block2_1_conv (Conv2D)    (None, 7, 7, 512)    1049088     conv5_block1_out[0][0]           \n",
      "__________________________________________________________________________________________________\n",
      "conv5_block2_1_bn (BatchNormali (None, 7, 7, 512)    2048        conv5_block2_1_conv[0][0]        \n",
      "__________________________________________________________________________________________________\n",
      "conv5_block2_1_relu (Activation (None, 7, 7, 512)    0           conv5_block2_1_bn[0][0]          \n",
      "__________________________________________________________________________________________________\n",
      "conv5_block2_2_conv (Conv2D)    (None, 7, 7, 512)    2359808     conv5_block2_1_relu[0][0]        \n",
      "__________________________________________________________________________________________________\n",
      "conv5_block2_2_bn (BatchNormali (None, 7, 7, 512)    2048        conv5_block2_2_conv[0][0]        \n",
      "__________________________________________________________________________________________________\n",
      "conv5_block2_2_relu (Activation (None, 7, 7, 512)    0           conv5_block2_2_bn[0][0]          \n",
      "__________________________________________________________________________________________________\n",
      "conv5_block2_3_conv (Conv2D)    (None, 7, 7, 2048)   1050624     conv5_block2_2_relu[0][0]        \n",
      "__________________________________________________________________________________________________\n",
      "conv5_block2_3_bn (BatchNormali (None, 7, 7, 2048)   8192        conv5_block2_3_conv[0][0]        \n",
      "__________________________________________________________________________________________________\n",
      "conv5_block2_add (Add)          (None, 7, 7, 2048)   0           conv5_block1_out[0][0]           \n",
      "                                                                 conv5_block2_3_bn[0][0]          \n",
      "__________________________________________________________________________________________________\n",
      "conv5_block2_out (Activation)   (None, 7, 7, 2048)   0           conv5_block2_add[0][0]           \n",
      "__________________________________________________________________________________________________\n",
      "conv5_block3_1_conv (Conv2D)    (None, 7, 7, 512)    1049088     conv5_block2_out[0][0]           \n",
      "__________________________________________________________________________________________________\n",
      "conv5_block3_1_bn (BatchNormali (None, 7, 7, 512)    2048        conv5_block3_1_conv[0][0]        \n",
      "__________________________________________________________________________________________________\n",
      "conv5_block3_1_relu (Activation (None, 7, 7, 512)    0           conv5_block3_1_bn[0][0]          \n",
      "__________________________________________________________________________________________________\n",
      "conv5_block3_2_conv (Conv2D)    (None, 7, 7, 512)    2359808     conv5_block3_1_relu[0][0]        \n",
      "__________________________________________________________________________________________________\n",
      "conv5_block3_2_bn (BatchNormali (None, 7, 7, 512)    2048        conv5_block3_2_conv[0][0]        \n",
      "__________________________________________________________________________________________________\n",
      "conv5_block3_2_relu (Activation (None, 7, 7, 512)    0           conv5_block3_2_bn[0][0]          \n",
      "__________________________________________________________________________________________________\n",
      "conv5_block3_3_conv (Conv2D)    (None, 7, 7, 2048)   1050624     conv5_block3_2_relu[0][0]        \n",
      "__________________________________________________________________________________________________\n",
      "conv5_block3_3_bn (BatchNormali (None, 7, 7, 2048)   8192        conv5_block3_3_conv[0][0]        \n",
      "__________________________________________________________________________________________________\n",
      "conv5_block3_add (Add)          (None, 7, 7, 2048)   0           conv5_block2_out[0][0]           \n",
      "                                                                 conv5_block3_3_bn[0][0]          \n",
      "__________________________________________________________________________________________________\n",
      "conv5_block3_out (Activation)   (None, 7, 7, 2048)   0           conv5_block3_add[0][0]           \n",
      "__________________________________________________________________________________________________\n",
      "avg_pool (GlobalAveragePooling2 (None, 2048)         0           conv5_block3_out[0][0]           \n",
      "__________________________________________________________________________________________________\n",
      "predictions (Dense)             (None, 1000)         2049000     avg_pool[0][0]                   \n",
      "==================================================================================================\n",
      "Total params: 25,636,712\n",
      "Trainable params: 25,583,592\n",
      "Non-trainable params: 53,120\n",
      "__________________________________________________________________________________________________\n"
     ]
    }
   ],
   "source": [
    "#vgg16_model.summary()\n",
    "resnet_model.summary()"
   ]
  },
  {
   "cell_type": "code",
   "execution_count": 7,
   "metadata": {
    "colab": {
     "base_uri": "https://localhost:8080/"
    },
    "id": "mh4x4qabc8x1",
    "outputId": "a436f78c-3c54-4aa5-e468-57082b9e4947"
   },
   "outputs": [
    {
     "data": {
      "text/plain": [
       "tensorflow.python.keras.engine.functional.Functional"
      ]
     },
     "execution_count": 7,
     "metadata": {
      "tags": []
     },
     "output_type": "execute_result"
    }
   ],
   "source": [
    "type(resnet_model)"
   ]
  },
  {
   "cell_type": "code",
   "execution_count": 8,
   "metadata": {
    "colab": {
     "base_uri": "https://localhost:8080/"
    },
    "id": "hYbgu9HddOGQ",
    "outputId": "6df772a3-33c6-4f56-84ee-5b004ee5324a"
   },
   "outputs": [
    {
     "name": "stdout",
     "output_type": "stream",
     "text": [
      "Downloading data from https://storage.googleapis.com/tensorflow/keras-applications/resnet/resnet50_weights_tf_dim_ordering_tf_kernels_notop.h5\n",
      "94773248/94765736 [==============================] - 1s 0us/step\n"
     ]
    }
   ],
   "source": [
    "IMAGE_SIZE = [224, 224]\n",
    "resnet = ResNet50(input_shape=IMAGE_SIZE + [3], weights='imagenet', include_top=False)"
   ]
  },
  {
   "cell_type": "code",
   "execution_count": 9,
   "metadata": {
    "colab": {
     "base_uri": "https://localhost:8080/"
    },
    "id": "PYTL91LVdfus",
    "outputId": "28acdace-cc0a-4617-af2e-f2eb9237c196"
   },
   "outputs": [
    {
     "name": "stdout",
     "output_type": "stream",
     "text": [
      "Model: \"resnet50\"\n",
      "__________________________________________________________________________________________________\n",
      "Layer (type)                    Output Shape         Param #     Connected to                     \n",
      "==================================================================================================\n",
      "input_2 (InputLayer)            [(None, 224, 224, 3) 0                                            \n",
      "__________________________________________________________________________________________________\n",
      "conv1_pad (ZeroPadding2D)       (None, 230, 230, 3)  0           input_2[0][0]                    \n",
      "__________________________________________________________________________________________________\n",
      "conv1_conv (Conv2D)             (None, 112, 112, 64) 9472        conv1_pad[0][0]                  \n",
      "__________________________________________________________________________________________________\n",
      "conv1_bn (BatchNormalization)   (None, 112, 112, 64) 256         conv1_conv[0][0]                 \n",
      "__________________________________________________________________________________________________\n",
      "conv1_relu (Activation)         (None, 112, 112, 64) 0           conv1_bn[0][0]                   \n",
      "__________________________________________________________________________________________________\n",
      "pool1_pad (ZeroPadding2D)       (None, 114, 114, 64) 0           conv1_relu[0][0]                 \n",
      "__________________________________________________________________________________________________\n",
      "pool1_pool (MaxPooling2D)       (None, 56, 56, 64)   0           pool1_pad[0][0]                  \n",
      "__________________________________________________________________________________________________\n",
      "conv2_block1_1_conv (Conv2D)    (None, 56, 56, 64)   4160        pool1_pool[0][0]                 \n",
      "__________________________________________________________________________________________________\n",
      "conv2_block1_1_bn (BatchNormali (None, 56, 56, 64)   256         conv2_block1_1_conv[0][0]        \n",
      "__________________________________________________________________________________________________\n",
      "conv2_block1_1_relu (Activation (None, 56, 56, 64)   0           conv2_block1_1_bn[0][0]          \n",
      "__________________________________________________________________________________________________\n",
      "conv2_block1_2_conv (Conv2D)    (None, 56, 56, 64)   36928       conv2_block1_1_relu[0][0]        \n",
      "__________________________________________________________________________________________________\n",
      "conv2_block1_2_bn (BatchNormali (None, 56, 56, 64)   256         conv2_block1_2_conv[0][0]        \n",
      "__________________________________________________________________________________________________\n",
      "conv2_block1_2_relu (Activation (None, 56, 56, 64)   0           conv2_block1_2_bn[0][0]          \n",
      "__________________________________________________________________________________________________\n",
      "conv2_block1_0_conv (Conv2D)    (None, 56, 56, 256)  16640       pool1_pool[0][0]                 \n",
      "__________________________________________________________________________________________________\n",
      "conv2_block1_3_conv (Conv2D)    (None, 56, 56, 256)  16640       conv2_block1_2_relu[0][0]        \n",
      "__________________________________________________________________________________________________\n",
      "conv2_block1_0_bn (BatchNormali (None, 56, 56, 256)  1024        conv2_block1_0_conv[0][0]        \n",
      "__________________________________________________________________________________________________\n",
      "conv2_block1_3_bn (BatchNormali (None, 56, 56, 256)  1024        conv2_block1_3_conv[0][0]        \n",
      "__________________________________________________________________________________________________\n",
      "conv2_block1_add (Add)          (None, 56, 56, 256)  0           conv2_block1_0_bn[0][0]          \n",
      "                                                                 conv2_block1_3_bn[0][0]          \n",
      "__________________________________________________________________________________________________\n",
      "conv2_block1_out (Activation)   (None, 56, 56, 256)  0           conv2_block1_add[0][0]           \n",
      "__________________________________________________________________________________________________\n",
      "conv2_block2_1_conv (Conv2D)    (None, 56, 56, 64)   16448       conv2_block1_out[0][0]           \n",
      "__________________________________________________________________________________________________\n",
      "conv2_block2_1_bn (BatchNormali (None, 56, 56, 64)   256         conv2_block2_1_conv[0][0]        \n",
      "__________________________________________________________________________________________________\n",
      "conv2_block2_1_relu (Activation (None, 56, 56, 64)   0           conv2_block2_1_bn[0][0]          \n",
      "__________________________________________________________________________________________________\n",
      "conv2_block2_2_conv (Conv2D)    (None, 56, 56, 64)   36928       conv2_block2_1_relu[0][0]        \n",
      "__________________________________________________________________________________________________\n",
      "conv2_block2_2_bn (BatchNormali (None, 56, 56, 64)   256         conv2_block2_2_conv[0][0]        \n",
      "__________________________________________________________________________________________________\n",
      "conv2_block2_2_relu (Activation (None, 56, 56, 64)   0           conv2_block2_2_bn[0][0]          \n",
      "__________________________________________________________________________________________________\n",
      "conv2_block2_3_conv (Conv2D)    (None, 56, 56, 256)  16640       conv2_block2_2_relu[0][0]        \n",
      "__________________________________________________________________________________________________\n",
      "conv2_block2_3_bn (BatchNormali (None, 56, 56, 256)  1024        conv2_block2_3_conv[0][0]        \n",
      "__________________________________________________________________________________________________\n",
      "conv2_block2_add (Add)          (None, 56, 56, 256)  0           conv2_block1_out[0][0]           \n",
      "                                                                 conv2_block2_3_bn[0][0]          \n",
      "__________________________________________________________________________________________________\n",
      "conv2_block2_out (Activation)   (None, 56, 56, 256)  0           conv2_block2_add[0][0]           \n",
      "__________________________________________________________________________________________________\n",
      "conv2_block3_1_conv (Conv2D)    (None, 56, 56, 64)   16448       conv2_block2_out[0][0]           \n",
      "__________________________________________________________________________________________________\n",
      "conv2_block3_1_bn (BatchNormali (None, 56, 56, 64)   256         conv2_block3_1_conv[0][0]        \n",
      "__________________________________________________________________________________________________\n",
      "conv2_block3_1_relu (Activation (None, 56, 56, 64)   0           conv2_block3_1_bn[0][0]          \n",
      "__________________________________________________________________________________________________\n",
      "conv2_block3_2_conv (Conv2D)    (None, 56, 56, 64)   36928       conv2_block3_1_relu[0][0]        \n",
      "__________________________________________________________________________________________________\n",
      "conv2_block3_2_bn (BatchNormali (None, 56, 56, 64)   256         conv2_block3_2_conv[0][0]        \n",
      "__________________________________________________________________________________________________\n",
      "conv2_block3_2_relu (Activation (None, 56, 56, 64)   0           conv2_block3_2_bn[0][0]          \n",
      "__________________________________________________________________________________________________\n",
      "conv2_block3_3_conv (Conv2D)    (None, 56, 56, 256)  16640       conv2_block3_2_relu[0][0]        \n",
      "__________________________________________________________________________________________________\n",
      "conv2_block3_3_bn (BatchNormali (None, 56, 56, 256)  1024        conv2_block3_3_conv[0][0]        \n",
      "__________________________________________________________________________________________________\n",
      "conv2_block3_add (Add)          (None, 56, 56, 256)  0           conv2_block2_out[0][0]           \n",
      "                                                                 conv2_block3_3_bn[0][0]          \n",
      "__________________________________________________________________________________________________\n",
      "conv2_block3_out (Activation)   (None, 56, 56, 256)  0           conv2_block3_add[0][0]           \n",
      "__________________________________________________________________________________________________\n",
      "conv3_block1_1_conv (Conv2D)    (None, 28, 28, 128)  32896       conv2_block3_out[0][0]           \n",
      "__________________________________________________________________________________________________\n",
      "conv3_block1_1_bn (BatchNormali (None, 28, 28, 128)  512         conv3_block1_1_conv[0][0]        \n",
      "__________________________________________________________________________________________________\n",
      "conv3_block1_1_relu (Activation (None, 28, 28, 128)  0           conv3_block1_1_bn[0][0]          \n",
      "__________________________________________________________________________________________________\n",
      "conv3_block1_2_conv (Conv2D)    (None, 28, 28, 128)  147584      conv3_block1_1_relu[0][0]        \n",
      "__________________________________________________________________________________________________\n",
      "conv3_block1_2_bn (BatchNormali (None, 28, 28, 128)  512         conv3_block1_2_conv[0][0]        \n",
      "__________________________________________________________________________________________________\n",
      "conv3_block1_2_relu (Activation (None, 28, 28, 128)  0           conv3_block1_2_bn[0][0]          \n",
      "__________________________________________________________________________________________________\n",
      "conv3_block1_0_conv (Conv2D)    (None, 28, 28, 512)  131584      conv2_block3_out[0][0]           \n",
      "__________________________________________________________________________________________________\n",
      "conv3_block1_3_conv (Conv2D)    (None, 28, 28, 512)  66048       conv3_block1_2_relu[0][0]        \n",
      "__________________________________________________________________________________________________\n",
      "conv3_block1_0_bn (BatchNormali (None, 28, 28, 512)  2048        conv3_block1_0_conv[0][0]        \n",
      "__________________________________________________________________________________________________\n",
      "conv3_block1_3_bn (BatchNormali (None, 28, 28, 512)  2048        conv3_block1_3_conv[0][0]        \n",
      "__________________________________________________________________________________________________\n",
      "conv3_block1_add (Add)          (None, 28, 28, 512)  0           conv3_block1_0_bn[0][0]          \n",
      "                                                                 conv3_block1_3_bn[0][0]          \n",
      "__________________________________________________________________________________________________\n",
      "conv3_block1_out (Activation)   (None, 28, 28, 512)  0           conv3_block1_add[0][0]           \n",
      "__________________________________________________________________________________________________\n",
      "conv3_block2_1_conv (Conv2D)    (None, 28, 28, 128)  65664       conv3_block1_out[0][0]           \n",
      "__________________________________________________________________________________________________\n",
      "conv3_block2_1_bn (BatchNormali (None, 28, 28, 128)  512         conv3_block2_1_conv[0][0]        \n",
      "__________________________________________________________________________________________________\n",
      "conv3_block2_1_relu (Activation (None, 28, 28, 128)  0           conv3_block2_1_bn[0][0]          \n",
      "__________________________________________________________________________________________________\n",
      "conv3_block2_2_conv (Conv2D)    (None, 28, 28, 128)  147584      conv3_block2_1_relu[0][0]        \n",
      "__________________________________________________________________________________________________\n",
      "conv3_block2_2_bn (BatchNormali (None, 28, 28, 128)  512         conv3_block2_2_conv[0][0]        \n",
      "__________________________________________________________________________________________________\n",
      "conv3_block2_2_relu (Activation (None, 28, 28, 128)  0           conv3_block2_2_bn[0][0]          \n",
      "__________________________________________________________________________________________________\n",
      "conv3_block2_3_conv (Conv2D)    (None, 28, 28, 512)  66048       conv3_block2_2_relu[0][0]        \n",
      "__________________________________________________________________________________________________\n",
      "conv3_block2_3_bn (BatchNormali (None, 28, 28, 512)  2048        conv3_block2_3_conv[0][0]        \n",
      "__________________________________________________________________________________________________\n",
      "conv3_block2_add (Add)          (None, 28, 28, 512)  0           conv3_block1_out[0][0]           \n",
      "                                                                 conv3_block2_3_bn[0][0]          \n",
      "__________________________________________________________________________________________________\n",
      "conv3_block2_out (Activation)   (None, 28, 28, 512)  0           conv3_block2_add[0][0]           \n",
      "__________________________________________________________________________________________________\n",
      "conv3_block3_1_conv (Conv2D)    (None, 28, 28, 128)  65664       conv3_block2_out[0][0]           \n",
      "__________________________________________________________________________________________________\n",
      "conv3_block3_1_bn (BatchNormali (None, 28, 28, 128)  512         conv3_block3_1_conv[0][0]        \n",
      "__________________________________________________________________________________________________\n",
      "conv3_block3_1_relu (Activation (None, 28, 28, 128)  0           conv3_block3_1_bn[0][0]          \n",
      "__________________________________________________________________________________________________\n",
      "conv3_block3_2_conv (Conv2D)    (None, 28, 28, 128)  147584      conv3_block3_1_relu[0][0]        \n",
      "__________________________________________________________________________________________________\n",
      "conv3_block3_2_bn (BatchNormali (None, 28, 28, 128)  512         conv3_block3_2_conv[0][0]        \n",
      "__________________________________________________________________________________________________\n",
      "conv3_block3_2_relu (Activation (None, 28, 28, 128)  0           conv3_block3_2_bn[0][0]          \n",
      "__________________________________________________________________________________________________\n",
      "conv3_block3_3_conv (Conv2D)    (None, 28, 28, 512)  66048       conv3_block3_2_relu[0][0]        \n",
      "__________________________________________________________________________________________________\n",
      "conv3_block3_3_bn (BatchNormali (None, 28, 28, 512)  2048        conv3_block3_3_conv[0][0]        \n",
      "__________________________________________________________________________________________________\n",
      "conv3_block3_add (Add)          (None, 28, 28, 512)  0           conv3_block2_out[0][0]           \n",
      "                                                                 conv3_block3_3_bn[0][0]          \n",
      "__________________________________________________________________________________________________\n",
      "conv3_block3_out (Activation)   (None, 28, 28, 512)  0           conv3_block3_add[0][0]           \n",
      "__________________________________________________________________________________________________\n",
      "conv3_block4_1_conv (Conv2D)    (None, 28, 28, 128)  65664       conv3_block3_out[0][0]           \n",
      "__________________________________________________________________________________________________\n",
      "conv3_block4_1_bn (BatchNormali (None, 28, 28, 128)  512         conv3_block4_1_conv[0][0]        \n",
      "__________________________________________________________________________________________________\n",
      "conv3_block4_1_relu (Activation (None, 28, 28, 128)  0           conv3_block4_1_bn[0][0]          \n",
      "__________________________________________________________________________________________________\n",
      "conv3_block4_2_conv (Conv2D)    (None, 28, 28, 128)  147584      conv3_block4_1_relu[0][0]        \n",
      "__________________________________________________________________________________________________\n",
      "conv3_block4_2_bn (BatchNormali (None, 28, 28, 128)  512         conv3_block4_2_conv[0][0]        \n",
      "__________________________________________________________________________________________________\n",
      "conv3_block4_2_relu (Activation (None, 28, 28, 128)  0           conv3_block4_2_bn[0][0]          \n",
      "__________________________________________________________________________________________________\n",
      "conv3_block4_3_conv (Conv2D)    (None, 28, 28, 512)  66048       conv3_block4_2_relu[0][0]        \n",
      "__________________________________________________________________________________________________\n",
      "conv3_block4_3_bn (BatchNormali (None, 28, 28, 512)  2048        conv3_block4_3_conv[0][0]        \n",
      "__________________________________________________________________________________________________\n",
      "conv3_block4_add (Add)          (None, 28, 28, 512)  0           conv3_block3_out[0][0]           \n",
      "                                                                 conv3_block4_3_bn[0][0]          \n",
      "__________________________________________________________________________________________________\n",
      "conv3_block4_out (Activation)   (None, 28, 28, 512)  0           conv3_block4_add[0][0]           \n",
      "__________________________________________________________________________________________________\n",
      "conv4_block1_1_conv (Conv2D)    (None, 14, 14, 256)  131328      conv3_block4_out[0][0]           \n",
      "__________________________________________________________________________________________________\n",
      "conv4_block1_1_bn (BatchNormali (None, 14, 14, 256)  1024        conv4_block1_1_conv[0][0]        \n",
      "__________________________________________________________________________________________________\n",
      "conv4_block1_1_relu (Activation (None, 14, 14, 256)  0           conv4_block1_1_bn[0][0]          \n",
      "__________________________________________________________________________________________________\n",
      "conv4_block1_2_conv (Conv2D)    (None, 14, 14, 256)  590080      conv4_block1_1_relu[0][0]        \n",
      "__________________________________________________________________________________________________\n",
      "conv4_block1_2_bn (BatchNormali (None, 14, 14, 256)  1024        conv4_block1_2_conv[0][0]        \n",
      "__________________________________________________________________________________________________\n",
      "conv4_block1_2_relu (Activation (None, 14, 14, 256)  0           conv4_block1_2_bn[0][0]          \n",
      "__________________________________________________________________________________________________\n",
      "conv4_block1_0_conv (Conv2D)    (None, 14, 14, 1024) 525312      conv3_block4_out[0][0]           \n",
      "__________________________________________________________________________________________________\n",
      "conv4_block1_3_conv (Conv2D)    (None, 14, 14, 1024) 263168      conv4_block1_2_relu[0][0]        \n",
      "__________________________________________________________________________________________________\n",
      "conv4_block1_0_bn (BatchNormali (None, 14, 14, 1024) 4096        conv4_block1_0_conv[0][0]        \n",
      "__________________________________________________________________________________________________\n",
      "conv4_block1_3_bn (BatchNormali (None, 14, 14, 1024) 4096        conv4_block1_3_conv[0][0]        \n",
      "__________________________________________________________________________________________________\n",
      "conv4_block1_add (Add)          (None, 14, 14, 1024) 0           conv4_block1_0_bn[0][0]          \n",
      "                                                                 conv4_block1_3_bn[0][0]          \n",
      "__________________________________________________________________________________________________\n",
      "conv4_block1_out (Activation)   (None, 14, 14, 1024) 0           conv4_block1_add[0][0]           \n",
      "__________________________________________________________________________________________________\n",
      "conv4_block2_1_conv (Conv2D)    (None, 14, 14, 256)  262400      conv4_block1_out[0][0]           \n",
      "__________________________________________________________________________________________________\n",
      "conv4_block2_1_bn (BatchNormali (None, 14, 14, 256)  1024        conv4_block2_1_conv[0][0]        \n",
      "__________________________________________________________________________________________________\n",
      "conv4_block2_1_relu (Activation (None, 14, 14, 256)  0           conv4_block2_1_bn[0][0]          \n",
      "__________________________________________________________________________________________________\n",
      "conv4_block2_2_conv (Conv2D)    (None, 14, 14, 256)  590080      conv4_block2_1_relu[0][0]        \n",
      "__________________________________________________________________________________________________\n",
      "conv4_block2_2_bn (BatchNormali (None, 14, 14, 256)  1024        conv4_block2_2_conv[0][0]        \n",
      "__________________________________________________________________________________________________\n",
      "conv4_block2_2_relu (Activation (None, 14, 14, 256)  0           conv4_block2_2_bn[0][0]          \n",
      "__________________________________________________________________________________________________\n",
      "conv4_block2_3_conv (Conv2D)    (None, 14, 14, 1024) 263168      conv4_block2_2_relu[0][0]        \n",
      "__________________________________________________________________________________________________\n",
      "conv4_block2_3_bn (BatchNormali (None, 14, 14, 1024) 4096        conv4_block2_3_conv[0][0]        \n",
      "__________________________________________________________________________________________________\n",
      "conv4_block2_add (Add)          (None, 14, 14, 1024) 0           conv4_block1_out[0][0]           \n",
      "                                                                 conv4_block2_3_bn[0][0]          \n",
      "__________________________________________________________________________________________________\n",
      "conv4_block2_out (Activation)   (None, 14, 14, 1024) 0           conv4_block2_add[0][0]           \n",
      "__________________________________________________________________________________________________\n",
      "conv4_block3_1_conv (Conv2D)    (None, 14, 14, 256)  262400      conv4_block2_out[0][0]           \n",
      "__________________________________________________________________________________________________\n",
      "conv4_block3_1_bn (BatchNormali (None, 14, 14, 256)  1024        conv4_block3_1_conv[0][0]        \n",
      "__________________________________________________________________________________________________\n",
      "conv4_block3_1_relu (Activation (None, 14, 14, 256)  0           conv4_block3_1_bn[0][0]          \n",
      "__________________________________________________________________________________________________\n",
      "conv4_block3_2_conv (Conv2D)    (None, 14, 14, 256)  590080      conv4_block3_1_relu[0][0]        \n",
      "__________________________________________________________________________________________________\n",
      "conv4_block3_2_bn (BatchNormali (None, 14, 14, 256)  1024        conv4_block3_2_conv[0][0]        \n",
      "__________________________________________________________________________________________________\n",
      "conv4_block3_2_relu (Activation (None, 14, 14, 256)  0           conv4_block3_2_bn[0][0]          \n",
      "__________________________________________________________________________________________________\n",
      "conv4_block3_3_conv (Conv2D)    (None, 14, 14, 1024) 263168      conv4_block3_2_relu[0][0]        \n",
      "__________________________________________________________________________________________________\n",
      "conv4_block3_3_bn (BatchNormali (None, 14, 14, 1024) 4096        conv4_block3_3_conv[0][0]        \n",
      "__________________________________________________________________________________________________\n",
      "conv4_block3_add (Add)          (None, 14, 14, 1024) 0           conv4_block2_out[0][0]           \n",
      "                                                                 conv4_block3_3_bn[0][0]          \n",
      "__________________________________________________________________________________________________\n",
      "conv4_block3_out (Activation)   (None, 14, 14, 1024) 0           conv4_block3_add[0][0]           \n",
      "__________________________________________________________________________________________________\n",
      "conv4_block4_1_conv (Conv2D)    (None, 14, 14, 256)  262400      conv4_block3_out[0][0]           \n",
      "__________________________________________________________________________________________________\n",
      "conv4_block4_1_bn (BatchNormali (None, 14, 14, 256)  1024        conv4_block4_1_conv[0][0]        \n",
      "__________________________________________________________________________________________________\n",
      "conv4_block4_1_relu (Activation (None, 14, 14, 256)  0           conv4_block4_1_bn[0][0]          \n",
      "__________________________________________________________________________________________________\n",
      "conv4_block4_2_conv (Conv2D)    (None, 14, 14, 256)  590080      conv4_block4_1_relu[0][0]        \n",
      "__________________________________________________________________________________________________\n",
      "conv4_block4_2_bn (BatchNormali (None, 14, 14, 256)  1024        conv4_block4_2_conv[0][0]        \n",
      "__________________________________________________________________________________________________\n",
      "conv4_block4_2_relu (Activation (None, 14, 14, 256)  0           conv4_block4_2_bn[0][0]          \n",
      "__________________________________________________________________________________________________\n",
      "conv4_block4_3_conv (Conv2D)    (None, 14, 14, 1024) 263168      conv4_block4_2_relu[0][0]        \n",
      "__________________________________________________________________________________________________\n",
      "conv4_block4_3_bn (BatchNormali (None, 14, 14, 1024) 4096        conv4_block4_3_conv[0][0]        \n",
      "__________________________________________________________________________________________________\n",
      "conv4_block4_add (Add)          (None, 14, 14, 1024) 0           conv4_block3_out[0][0]           \n",
      "                                                                 conv4_block4_3_bn[0][0]          \n",
      "__________________________________________________________________________________________________\n",
      "conv4_block4_out (Activation)   (None, 14, 14, 1024) 0           conv4_block4_add[0][0]           \n",
      "__________________________________________________________________________________________________\n",
      "conv4_block5_1_conv (Conv2D)    (None, 14, 14, 256)  262400      conv4_block4_out[0][0]           \n",
      "__________________________________________________________________________________________________\n",
      "conv4_block5_1_bn (BatchNormali (None, 14, 14, 256)  1024        conv4_block5_1_conv[0][0]        \n",
      "__________________________________________________________________________________________________\n",
      "conv4_block5_1_relu (Activation (None, 14, 14, 256)  0           conv4_block5_1_bn[0][0]          \n",
      "__________________________________________________________________________________________________\n",
      "conv4_block5_2_conv (Conv2D)    (None, 14, 14, 256)  590080      conv4_block5_1_relu[0][0]        \n",
      "__________________________________________________________________________________________________\n",
      "conv4_block5_2_bn (BatchNormali (None, 14, 14, 256)  1024        conv4_block5_2_conv[0][0]        \n",
      "__________________________________________________________________________________________________\n",
      "conv4_block5_2_relu (Activation (None, 14, 14, 256)  0           conv4_block5_2_bn[0][0]          \n",
      "__________________________________________________________________________________________________\n",
      "conv4_block5_3_conv (Conv2D)    (None, 14, 14, 1024) 263168      conv4_block5_2_relu[0][0]        \n",
      "__________________________________________________________________________________________________\n",
      "conv4_block5_3_bn (BatchNormali (None, 14, 14, 1024) 4096        conv4_block5_3_conv[0][0]        \n",
      "__________________________________________________________________________________________________\n",
      "conv4_block5_add (Add)          (None, 14, 14, 1024) 0           conv4_block4_out[0][0]           \n",
      "                                                                 conv4_block5_3_bn[0][0]          \n",
      "__________________________________________________________________________________________________\n",
      "conv4_block5_out (Activation)   (None, 14, 14, 1024) 0           conv4_block5_add[0][0]           \n",
      "__________________________________________________________________________________________________\n",
      "conv4_block6_1_conv (Conv2D)    (None, 14, 14, 256)  262400      conv4_block5_out[0][0]           \n",
      "__________________________________________________________________________________________________\n",
      "conv4_block6_1_bn (BatchNormali (None, 14, 14, 256)  1024        conv4_block6_1_conv[0][0]        \n",
      "__________________________________________________________________________________________________\n",
      "conv4_block6_1_relu (Activation (None, 14, 14, 256)  0           conv4_block6_1_bn[0][0]          \n",
      "__________________________________________________________________________________________________\n",
      "conv4_block6_2_conv (Conv2D)    (None, 14, 14, 256)  590080      conv4_block6_1_relu[0][0]        \n",
      "__________________________________________________________________________________________________\n",
      "conv4_block6_2_bn (BatchNormali (None, 14, 14, 256)  1024        conv4_block6_2_conv[0][0]        \n",
      "__________________________________________________________________________________________________\n",
      "conv4_block6_2_relu (Activation (None, 14, 14, 256)  0           conv4_block6_2_bn[0][0]          \n",
      "__________________________________________________________________________________________________\n",
      "conv4_block6_3_conv (Conv2D)    (None, 14, 14, 1024) 263168      conv4_block6_2_relu[0][0]        \n",
      "__________________________________________________________________________________________________\n",
      "conv4_block6_3_bn (BatchNormali (None, 14, 14, 1024) 4096        conv4_block6_3_conv[0][0]        \n",
      "__________________________________________________________________________________________________\n",
      "conv4_block6_add (Add)          (None, 14, 14, 1024) 0           conv4_block5_out[0][0]           \n",
      "                                                                 conv4_block6_3_bn[0][0]          \n",
      "__________________________________________________________________________________________________\n",
      "conv4_block6_out (Activation)   (None, 14, 14, 1024) 0           conv4_block6_add[0][0]           \n",
      "__________________________________________________________________________________________________\n",
      "conv5_block1_1_conv (Conv2D)    (None, 7, 7, 512)    524800      conv4_block6_out[0][0]           \n",
      "__________________________________________________________________________________________________\n",
      "conv5_block1_1_bn (BatchNormali (None, 7, 7, 512)    2048        conv5_block1_1_conv[0][0]        \n",
      "__________________________________________________________________________________________________\n",
      "conv5_block1_1_relu (Activation (None, 7, 7, 512)    0           conv5_block1_1_bn[0][0]          \n",
      "__________________________________________________________________________________________________\n",
      "conv5_block1_2_conv (Conv2D)    (None, 7, 7, 512)    2359808     conv5_block1_1_relu[0][0]        \n",
      "__________________________________________________________________________________________________\n",
      "conv5_block1_2_bn (BatchNormali (None, 7, 7, 512)    2048        conv5_block1_2_conv[0][0]        \n",
      "__________________________________________________________________________________________________\n",
      "conv5_block1_2_relu (Activation (None, 7, 7, 512)    0           conv5_block1_2_bn[0][0]          \n",
      "__________________________________________________________________________________________________\n",
      "conv5_block1_0_conv (Conv2D)    (None, 7, 7, 2048)   2099200     conv4_block6_out[0][0]           \n",
      "__________________________________________________________________________________________________\n",
      "conv5_block1_3_conv (Conv2D)    (None, 7, 7, 2048)   1050624     conv5_block1_2_relu[0][0]        \n",
      "__________________________________________________________________________________________________\n",
      "conv5_block1_0_bn (BatchNormali (None, 7, 7, 2048)   8192        conv5_block1_0_conv[0][0]        \n",
      "__________________________________________________________________________________________________\n",
      "conv5_block1_3_bn (BatchNormali (None, 7, 7, 2048)   8192        conv5_block1_3_conv[0][0]        \n",
      "__________________________________________________________________________________________________\n",
      "conv5_block1_add (Add)          (None, 7, 7, 2048)   0           conv5_block1_0_bn[0][0]          \n",
      "                                                                 conv5_block1_3_bn[0][0]          \n",
      "__________________________________________________________________________________________________\n",
      "conv5_block1_out (Activation)   (None, 7, 7, 2048)   0           conv5_block1_add[0][0]           \n",
      "__________________________________________________________________________________________________\n",
      "conv5_block2_1_conv (Conv2D)    (None, 7, 7, 512)    1049088     conv5_block1_out[0][0]           \n",
      "__________________________________________________________________________________________________\n",
      "conv5_block2_1_bn (BatchNormali (None, 7, 7, 512)    2048        conv5_block2_1_conv[0][0]        \n",
      "__________________________________________________________________________________________________\n",
      "conv5_block2_1_relu (Activation (None, 7, 7, 512)    0           conv5_block2_1_bn[0][0]          \n",
      "__________________________________________________________________________________________________\n",
      "conv5_block2_2_conv (Conv2D)    (None, 7, 7, 512)    2359808     conv5_block2_1_relu[0][0]        \n",
      "__________________________________________________________________________________________________\n",
      "conv5_block2_2_bn (BatchNormali (None, 7, 7, 512)    2048        conv5_block2_2_conv[0][0]        \n",
      "__________________________________________________________________________________________________\n",
      "conv5_block2_2_relu (Activation (None, 7, 7, 512)    0           conv5_block2_2_bn[0][0]          \n",
      "__________________________________________________________________________________________________\n",
      "conv5_block2_3_conv (Conv2D)    (None, 7, 7, 2048)   1050624     conv5_block2_2_relu[0][0]        \n",
      "__________________________________________________________________________________________________\n",
      "conv5_block2_3_bn (BatchNormali (None, 7, 7, 2048)   8192        conv5_block2_3_conv[0][0]        \n",
      "__________________________________________________________________________________________________\n",
      "conv5_block2_add (Add)          (None, 7, 7, 2048)   0           conv5_block1_out[0][0]           \n",
      "                                                                 conv5_block2_3_bn[0][0]          \n",
      "__________________________________________________________________________________________________\n",
      "conv5_block2_out (Activation)   (None, 7, 7, 2048)   0           conv5_block2_add[0][0]           \n",
      "__________________________________________________________________________________________________\n",
      "conv5_block3_1_conv (Conv2D)    (None, 7, 7, 512)    1049088     conv5_block2_out[0][0]           \n",
      "__________________________________________________________________________________________________\n",
      "conv5_block3_1_bn (BatchNormali (None, 7, 7, 512)    2048        conv5_block3_1_conv[0][0]        \n",
      "__________________________________________________________________________________________________\n",
      "conv5_block3_1_relu (Activation (None, 7, 7, 512)    0           conv5_block3_1_bn[0][0]          \n",
      "__________________________________________________________________________________________________\n",
      "conv5_block3_2_conv (Conv2D)    (None, 7, 7, 512)    2359808     conv5_block3_1_relu[0][0]        \n",
      "__________________________________________________________________________________________________\n",
      "conv5_block3_2_bn (BatchNormali (None, 7, 7, 512)    2048        conv5_block3_2_conv[0][0]        \n",
      "__________________________________________________________________________________________________\n",
      "conv5_block3_2_relu (Activation (None, 7, 7, 512)    0           conv5_block3_2_bn[0][0]          \n",
      "__________________________________________________________________________________________________\n",
      "conv5_block3_3_conv (Conv2D)    (None, 7, 7, 2048)   1050624     conv5_block3_2_relu[0][0]        \n",
      "__________________________________________________________________________________________________\n",
      "conv5_block3_3_bn (BatchNormali (None, 7, 7, 2048)   8192        conv5_block3_3_conv[0][0]        \n",
      "__________________________________________________________________________________________________\n",
      "conv5_block3_add (Add)          (None, 7, 7, 2048)   0           conv5_block2_out[0][0]           \n",
      "                                                                 conv5_block3_3_bn[0][0]          \n",
      "__________________________________________________________________________________________________\n",
      "conv5_block3_out (Activation)   (None, 7, 7, 2048)   0           conv5_block3_add[0][0]           \n",
      "==================================================================================================\n",
      "Total params: 23,587,712\n",
      "Trainable params: 23,534,592\n",
      "Non-trainable params: 53,120\n",
      "__________________________________________________________________________________________________\n"
     ]
    }
   ],
   "source": [
    "resnet.summary()"
   ]
  },
  {
   "cell_type": "code",
   "execution_count": 10,
   "metadata": {
    "id": "B-7Cs-8FdlbR"
   },
   "outputs": [],
   "source": [
    "for layer in resnet.layers:\n",
    "    layer.trainable = False"
   ]
  },
  {
   "cell_type": "code",
   "execution_count": 11,
   "metadata": {
    "id": "pHX_jWapOOv6"
   },
   "outputs": [],
   "source": [
    "x = Flatten()(resnet.output)\n",
    "# x = Dense(1000, activation='relu')(x)\n",
    "prediction = Dense(4, activation='softmax')(x)\n",
    "\n",
    "# create a model object\n",
    "model = Model(inputs=resnet.input, outputs=prediction)"
   ]
  },
  {
   "cell_type": "code",
   "execution_count": 12,
   "metadata": {
    "colab": {
     "base_uri": "https://localhost:8080/"
    },
    "id": "zSt8MrOVOnPC",
    "outputId": "c2c512e3-d12a-4eee-f013-0c8a55f2dfc2"
   },
   "outputs": [
    {
     "name": "stdout",
     "output_type": "stream",
     "text": [
      "Model: \"model\"\n",
      "__________________________________________________________________________________________________\n",
      "Layer (type)                    Output Shape         Param #     Connected to                     \n",
      "==================================================================================================\n",
      "input_2 (InputLayer)            [(None, 224, 224, 3) 0                                            \n",
      "__________________________________________________________________________________________________\n",
      "conv1_pad (ZeroPadding2D)       (None, 230, 230, 3)  0           input_2[0][0]                    \n",
      "__________________________________________________________________________________________________\n",
      "conv1_conv (Conv2D)             (None, 112, 112, 64) 9472        conv1_pad[0][0]                  \n",
      "__________________________________________________________________________________________________\n",
      "conv1_bn (BatchNormalization)   (None, 112, 112, 64) 256         conv1_conv[0][0]                 \n",
      "__________________________________________________________________________________________________\n",
      "conv1_relu (Activation)         (None, 112, 112, 64) 0           conv1_bn[0][0]                   \n",
      "__________________________________________________________________________________________________\n",
      "pool1_pad (ZeroPadding2D)       (None, 114, 114, 64) 0           conv1_relu[0][0]                 \n",
      "__________________________________________________________________________________________________\n",
      "pool1_pool (MaxPooling2D)       (None, 56, 56, 64)   0           pool1_pad[0][0]                  \n",
      "__________________________________________________________________________________________________\n",
      "conv2_block1_1_conv (Conv2D)    (None, 56, 56, 64)   4160        pool1_pool[0][0]                 \n",
      "__________________________________________________________________________________________________\n",
      "conv2_block1_1_bn (BatchNormali (None, 56, 56, 64)   256         conv2_block1_1_conv[0][0]        \n",
      "__________________________________________________________________________________________________\n",
      "conv2_block1_1_relu (Activation (None, 56, 56, 64)   0           conv2_block1_1_bn[0][0]          \n",
      "__________________________________________________________________________________________________\n",
      "conv2_block1_2_conv (Conv2D)    (None, 56, 56, 64)   36928       conv2_block1_1_relu[0][0]        \n",
      "__________________________________________________________________________________________________\n",
      "conv2_block1_2_bn (BatchNormali (None, 56, 56, 64)   256         conv2_block1_2_conv[0][0]        \n",
      "__________________________________________________________________________________________________\n",
      "conv2_block1_2_relu (Activation (None, 56, 56, 64)   0           conv2_block1_2_bn[0][0]          \n",
      "__________________________________________________________________________________________________\n",
      "conv2_block1_0_conv (Conv2D)    (None, 56, 56, 256)  16640       pool1_pool[0][0]                 \n",
      "__________________________________________________________________________________________________\n",
      "conv2_block1_3_conv (Conv2D)    (None, 56, 56, 256)  16640       conv2_block1_2_relu[0][0]        \n",
      "__________________________________________________________________________________________________\n",
      "conv2_block1_0_bn (BatchNormali (None, 56, 56, 256)  1024        conv2_block1_0_conv[0][0]        \n",
      "__________________________________________________________________________________________________\n",
      "conv2_block1_3_bn (BatchNormali (None, 56, 56, 256)  1024        conv2_block1_3_conv[0][0]        \n",
      "__________________________________________________________________________________________________\n",
      "conv2_block1_add (Add)          (None, 56, 56, 256)  0           conv2_block1_0_bn[0][0]          \n",
      "                                                                 conv2_block1_3_bn[0][0]          \n",
      "__________________________________________________________________________________________________\n",
      "conv2_block1_out (Activation)   (None, 56, 56, 256)  0           conv2_block1_add[0][0]           \n",
      "__________________________________________________________________________________________________\n",
      "conv2_block2_1_conv (Conv2D)    (None, 56, 56, 64)   16448       conv2_block1_out[0][0]           \n",
      "__________________________________________________________________________________________________\n",
      "conv2_block2_1_bn (BatchNormali (None, 56, 56, 64)   256         conv2_block2_1_conv[0][0]        \n",
      "__________________________________________________________________________________________________\n",
      "conv2_block2_1_relu (Activation (None, 56, 56, 64)   0           conv2_block2_1_bn[0][0]          \n",
      "__________________________________________________________________________________________________\n",
      "conv2_block2_2_conv (Conv2D)    (None, 56, 56, 64)   36928       conv2_block2_1_relu[0][0]        \n",
      "__________________________________________________________________________________________________\n",
      "conv2_block2_2_bn (BatchNormali (None, 56, 56, 64)   256         conv2_block2_2_conv[0][0]        \n",
      "__________________________________________________________________________________________________\n",
      "conv2_block2_2_relu (Activation (None, 56, 56, 64)   0           conv2_block2_2_bn[0][0]          \n",
      "__________________________________________________________________________________________________\n",
      "conv2_block2_3_conv (Conv2D)    (None, 56, 56, 256)  16640       conv2_block2_2_relu[0][0]        \n",
      "__________________________________________________________________________________________________\n",
      "conv2_block2_3_bn (BatchNormali (None, 56, 56, 256)  1024        conv2_block2_3_conv[0][0]        \n",
      "__________________________________________________________________________________________________\n",
      "conv2_block2_add (Add)          (None, 56, 56, 256)  0           conv2_block1_out[0][0]           \n",
      "                                                                 conv2_block2_3_bn[0][0]          \n",
      "__________________________________________________________________________________________________\n",
      "conv2_block2_out (Activation)   (None, 56, 56, 256)  0           conv2_block2_add[0][0]           \n",
      "__________________________________________________________________________________________________\n",
      "conv2_block3_1_conv (Conv2D)    (None, 56, 56, 64)   16448       conv2_block2_out[0][0]           \n",
      "__________________________________________________________________________________________________\n",
      "conv2_block3_1_bn (BatchNormali (None, 56, 56, 64)   256         conv2_block3_1_conv[0][0]        \n",
      "__________________________________________________________________________________________________\n",
      "conv2_block3_1_relu (Activation (None, 56, 56, 64)   0           conv2_block3_1_bn[0][0]          \n",
      "__________________________________________________________________________________________________\n",
      "conv2_block3_2_conv (Conv2D)    (None, 56, 56, 64)   36928       conv2_block3_1_relu[0][0]        \n",
      "__________________________________________________________________________________________________\n",
      "conv2_block3_2_bn (BatchNormali (None, 56, 56, 64)   256         conv2_block3_2_conv[0][0]        \n",
      "__________________________________________________________________________________________________\n",
      "conv2_block3_2_relu (Activation (None, 56, 56, 64)   0           conv2_block3_2_bn[0][0]          \n",
      "__________________________________________________________________________________________________\n",
      "conv2_block3_3_conv (Conv2D)    (None, 56, 56, 256)  16640       conv2_block3_2_relu[0][0]        \n",
      "__________________________________________________________________________________________________\n",
      "conv2_block3_3_bn (BatchNormali (None, 56, 56, 256)  1024        conv2_block3_3_conv[0][0]        \n",
      "__________________________________________________________________________________________________\n",
      "conv2_block3_add (Add)          (None, 56, 56, 256)  0           conv2_block2_out[0][0]           \n",
      "                                                                 conv2_block3_3_bn[0][0]          \n",
      "__________________________________________________________________________________________________\n",
      "conv2_block3_out (Activation)   (None, 56, 56, 256)  0           conv2_block3_add[0][0]           \n",
      "__________________________________________________________________________________________________\n",
      "conv3_block1_1_conv (Conv2D)    (None, 28, 28, 128)  32896       conv2_block3_out[0][0]           \n",
      "__________________________________________________________________________________________________\n",
      "conv3_block1_1_bn (BatchNormali (None, 28, 28, 128)  512         conv3_block1_1_conv[0][0]        \n",
      "__________________________________________________________________________________________________\n",
      "conv3_block1_1_relu (Activation (None, 28, 28, 128)  0           conv3_block1_1_bn[0][0]          \n",
      "__________________________________________________________________________________________________\n",
      "conv3_block1_2_conv (Conv2D)    (None, 28, 28, 128)  147584      conv3_block1_1_relu[0][0]        \n",
      "__________________________________________________________________________________________________\n",
      "conv3_block1_2_bn (BatchNormali (None, 28, 28, 128)  512         conv3_block1_2_conv[0][0]        \n",
      "__________________________________________________________________________________________________\n",
      "conv3_block1_2_relu (Activation (None, 28, 28, 128)  0           conv3_block1_2_bn[0][0]          \n",
      "__________________________________________________________________________________________________\n",
      "conv3_block1_0_conv (Conv2D)    (None, 28, 28, 512)  131584      conv2_block3_out[0][0]           \n",
      "__________________________________________________________________________________________________\n",
      "conv3_block1_3_conv (Conv2D)    (None, 28, 28, 512)  66048       conv3_block1_2_relu[0][0]        \n",
      "__________________________________________________________________________________________________\n",
      "conv3_block1_0_bn (BatchNormali (None, 28, 28, 512)  2048        conv3_block1_0_conv[0][0]        \n",
      "__________________________________________________________________________________________________\n",
      "conv3_block1_3_bn (BatchNormali (None, 28, 28, 512)  2048        conv3_block1_3_conv[0][0]        \n",
      "__________________________________________________________________________________________________\n",
      "conv3_block1_add (Add)          (None, 28, 28, 512)  0           conv3_block1_0_bn[0][0]          \n",
      "                                                                 conv3_block1_3_bn[0][0]          \n",
      "__________________________________________________________________________________________________\n",
      "conv3_block1_out (Activation)   (None, 28, 28, 512)  0           conv3_block1_add[0][0]           \n",
      "__________________________________________________________________________________________________\n",
      "conv3_block2_1_conv (Conv2D)    (None, 28, 28, 128)  65664       conv3_block1_out[0][0]           \n",
      "__________________________________________________________________________________________________\n",
      "conv3_block2_1_bn (BatchNormali (None, 28, 28, 128)  512         conv3_block2_1_conv[0][0]        \n",
      "__________________________________________________________________________________________________\n",
      "conv3_block2_1_relu (Activation (None, 28, 28, 128)  0           conv3_block2_1_bn[0][0]          \n",
      "__________________________________________________________________________________________________\n",
      "conv3_block2_2_conv (Conv2D)    (None, 28, 28, 128)  147584      conv3_block2_1_relu[0][0]        \n",
      "__________________________________________________________________________________________________\n",
      "conv3_block2_2_bn (BatchNormali (None, 28, 28, 128)  512         conv3_block2_2_conv[0][0]        \n",
      "__________________________________________________________________________________________________\n",
      "conv3_block2_2_relu (Activation (None, 28, 28, 128)  0           conv3_block2_2_bn[0][0]          \n",
      "__________________________________________________________________________________________________\n",
      "conv3_block2_3_conv (Conv2D)    (None, 28, 28, 512)  66048       conv3_block2_2_relu[0][0]        \n",
      "__________________________________________________________________________________________________\n",
      "conv3_block2_3_bn (BatchNormali (None, 28, 28, 512)  2048        conv3_block2_3_conv[0][0]        \n",
      "__________________________________________________________________________________________________\n",
      "conv3_block2_add (Add)          (None, 28, 28, 512)  0           conv3_block1_out[0][0]           \n",
      "                                                                 conv3_block2_3_bn[0][0]          \n",
      "__________________________________________________________________________________________________\n",
      "conv3_block2_out (Activation)   (None, 28, 28, 512)  0           conv3_block2_add[0][0]           \n",
      "__________________________________________________________________________________________________\n",
      "conv3_block3_1_conv (Conv2D)    (None, 28, 28, 128)  65664       conv3_block2_out[0][0]           \n",
      "__________________________________________________________________________________________________\n",
      "conv3_block3_1_bn (BatchNormali (None, 28, 28, 128)  512         conv3_block3_1_conv[0][0]        \n",
      "__________________________________________________________________________________________________\n",
      "conv3_block3_1_relu (Activation (None, 28, 28, 128)  0           conv3_block3_1_bn[0][0]          \n",
      "__________________________________________________________________________________________________\n",
      "conv3_block3_2_conv (Conv2D)    (None, 28, 28, 128)  147584      conv3_block3_1_relu[0][0]        \n",
      "__________________________________________________________________________________________________\n",
      "conv3_block3_2_bn (BatchNormali (None, 28, 28, 128)  512         conv3_block3_2_conv[0][0]        \n",
      "__________________________________________________________________________________________________\n",
      "conv3_block3_2_relu (Activation (None, 28, 28, 128)  0           conv3_block3_2_bn[0][0]          \n",
      "__________________________________________________________________________________________________\n",
      "conv3_block3_3_conv (Conv2D)    (None, 28, 28, 512)  66048       conv3_block3_2_relu[0][0]        \n",
      "__________________________________________________________________________________________________\n",
      "conv3_block3_3_bn (BatchNormali (None, 28, 28, 512)  2048        conv3_block3_3_conv[0][0]        \n",
      "__________________________________________________________________________________________________\n",
      "conv3_block3_add (Add)          (None, 28, 28, 512)  0           conv3_block2_out[0][0]           \n",
      "                                                                 conv3_block3_3_bn[0][0]          \n",
      "__________________________________________________________________________________________________\n",
      "conv3_block3_out (Activation)   (None, 28, 28, 512)  0           conv3_block3_add[0][0]           \n",
      "__________________________________________________________________________________________________\n",
      "conv3_block4_1_conv (Conv2D)    (None, 28, 28, 128)  65664       conv3_block3_out[0][0]           \n",
      "__________________________________________________________________________________________________\n",
      "conv3_block4_1_bn (BatchNormali (None, 28, 28, 128)  512         conv3_block4_1_conv[0][0]        \n",
      "__________________________________________________________________________________________________\n",
      "conv3_block4_1_relu (Activation (None, 28, 28, 128)  0           conv3_block4_1_bn[0][0]          \n",
      "__________________________________________________________________________________________________\n",
      "conv3_block4_2_conv (Conv2D)    (None, 28, 28, 128)  147584      conv3_block4_1_relu[0][0]        \n",
      "__________________________________________________________________________________________________\n",
      "conv3_block4_2_bn (BatchNormali (None, 28, 28, 128)  512         conv3_block4_2_conv[0][0]        \n",
      "__________________________________________________________________________________________________\n",
      "conv3_block4_2_relu (Activation (None, 28, 28, 128)  0           conv3_block4_2_bn[0][0]          \n",
      "__________________________________________________________________________________________________\n",
      "conv3_block4_3_conv (Conv2D)    (None, 28, 28, 512)  66048       conv3_block4_2_relu[0][0]        \n",
      "__________________________________________________________________________________________________\n",
      "conv3_block4_3_bn (BatchNormali (None, 28, 28, 512)  2048        conv3_block4_3_conv[0][0]        \n",
      "__________________________________________________________________________________________________\n",
      "conv3_block4_add (Add)          (None, 28, 28, 512)  0           conv3_block3_out[0][0]           \n",
      "                                                                 conv3_block4_3_bn[0][0]          \n",
      "__________________________________________________________________________________________________\n",
      "conv3_block4_out (Activation)   (None, 28, 28, 512)  0           conv3_block4_add[0][0]           \n",
      "__________________________________________________________________________________________________\n",
      "conv4_block1_1_conv (Conv2D)    (None, 14, 14, 256)  131328      conv3_block4_out[0][0]           \n",
      "__________________________________________________________________________________________________\n",
      "conv4_block1_1_bn (BatchNormali (None, 14, 14, 256)  1024        conv4_block1_1_conv[0][0]        \n",
      "__________________________________________________________________________________________________\n",
      "conv4_block1_1_relu (Activation (None, 14, 14, 256)  0           conv4_block1_1_bn[0][0]          \n",
      "__________________________________________________________________________________________________\n",
      "conv4_block1_2_conv (Conv2D)    (None, 14, 14, 256)  590080      conv4_block1_1_relu[0][0]        \n",
      "__________________________________________________________________________________________________\n",
      "conv4_block1_2_bn (BatchNormali (None, 14, 14, 256)  1024        conv4_block1_2_conv[0][0]        \n",
      "__________________________________________________________________________________________________\n",
      "conv4_block1_2_relu (Activation (None, 14, 14, 256)  0           conv4_block1_2_bn[0][0]          \n",
      "__________________________________________________________________________________________________\n",
      "conv4_block1_0_conv (Conv2D)    (None, 14, 14, 1024) 525312      conv3_block4_out[0][0]           \n",
      "__________________________________________________________________________________________________\n",
      "conv4_block1_3_conv (Conv2D)    (None, 14, 14, 1024) 263168      conv4_block1_2_relu[0][0]        \n",
      "__________________________________________________________________________________________________\n",
      "conv4_block1_0_bn (BatchNormali (None, 14, 14, 1024) 4096        conv4_block1_0_conv[0][0]        \n",
      "__________________________________________________________________________________________________\n",
      "conv4_block1_3_bn (BatchNormali (None, 14, 14, 1024) 4096        conv4_block1_3_conv[0][0]        \n",
      "__________________________________________________________________________________________________\n",
      "conv4_block1_add (Add)          (None, 14, 14, 1024) 0           conv4_block1_0_bn[0][0]          \n",
      "                                                                 conv4_block1_3_bn[0][0]          \n",
      "__________________________________________________________________________________________________\n",
      "conv4_block1_out (Activation)   (None, 14, 14, 1024) 0           conv4_block1_add[0][0]           \n",
      "__________________________________________________________________________________________________\n",
      "conv4_block2_1_conv (Conv2D)    (None, 14, 14, 256)  262400      conv4_block1_out[0][0]           \n",
      "__________________________________________________________________________________________________\n",
      "conv4_block2_1_bn (BatchNormali (None, 14, 14, 256)  1024        conv4_block2_1_conv[0][0]        \n",
      "__________________________________________________________________________________________________\n",
      "conv4_block2_1_relu (Activation (None, 14, 14, 256)  0           conv4_block2_1_bn[0][0]          \n",
      "__________________________________________________________________________________________________\n",
      "conv4_block2_2_conv (Conv2D)    (None, 14, 14, 256)  590080      conv4_block2_1_relu[0][0]        \n",
      "__________________________________________________________________________________________________\n",
      "conv4_block2_2_bn (BatchNormali (None, 14, 14, 256)  1024        conv4_block2_2_conv[0][0]        \n",
      "__________________________________________________________________________________________________\n",
      "conv4_block2_2_relu (Activation (None, 14, 14, 256)  0           conv4_block2_2_bn[0][0]          \n",
      "__________________________________________________________________________________________________\n",
      "conv4_block2_3_conv (Conv2D)    (None, 14, 14, 1024) 263168      conv4_block2_2_relu[0][0]        \n",
      "__________________________________________________________________________________________________\n",
      "conv4_block2_3_bn (BatchNormali (None, 14, 14, 1024) 4096        conv4_block2_3_conv[0][0]        \n",
      "__________________________________________________________________________________________________\n",
      "conv4_block2_add (Add)          (None, 14, 14, 1024) 0           conv4_block1_out[0][0]           \n",
      "                                                                 conv4_block2_3_bn[0][0]          \n",
      "__________________________________________________________________________________________________\n",
      "conv4_block2_out (Activation)   (None, 14, 14, 1024) 0           conv4_block2_add[0][0]           \n",
      "__________________________________________________________________________________________________\n",
      "conv4_block3_1_conv (Conv2D)    (None, 14, 14, 256)  262400      conv4_block2_out[0][0]           \n",
      "__________________________________________________________________________________________________\n",
      "conv4_block3_1_bn (BatchNormali (None, 14, 14, 256)  1024        conv4_block3_1_conv[0][0]        \n",
      "__________________________________________________________________________________________________\n",
      "conv4_block3_1_relu (Activation (None, 14, 14, 256)  0           conv4_block3_1_bn[0][0]          \n",
      "__________________________________________________________________________________________________\n",
      "conv4_block3_2_conv (Conv2D)    (None, 14, 14, 256)  590080      conv4_block3_1_relu[0][0]        \n",
      "__________________________________________________________________________________________________\n",
      "conv4_block3_2_bn (BatchNormali (None, 14, 14, 256)  1024        conv4_block3_2_conv[0][0]        \n",
      "__________________________________________________________________________________________________\n",
      "conv4_block3_2_relu (Activation (None, 14, 14, 256)  0           conv4_block3_2_bn[0][0]          \n",
      "__________________________________________________________________________________________________\n",
      "conv4_block3_3_conv (Conv2D)    (None, 14, 14, 1024) 263168      conv4_block3_2_relu[0][0]        \n",
      "__________________________________________________________________________________________________\n",
      "conv4_block3_3_bn (BatchNormali (None, 14, 14, 1024) 4096        conv4_block3_3_conv[0][0]        \n",
      "__________________________________________________________________________________________________\n",
      "conv4_block3_add (Add)          (None, 14, 14, 1024) 0           conv4_block2_out[0][0]           \n",
      "                                                                 conv4_block3_3_bn[0][0]          \n",
      "__________________________________________________________________________________________________\n",
      "conv4_block3_out (Activation)   (None, 14, 14, 1024) 0           conv4_block3_add[0][0]           \n",
      "__________________________________________________________________________________________________\n",
      "conv4_block4_1_conv (Conv2D)    (None, 14, 14, 256)  262400      conv4_block3_out[0][0]           \n",
      "__________________________________________________________________________________________________\n",
      "conv4_block4_1_bn (BatchNormali (None, 14, 14, 256)  1024        conv4_block4_1_conv[0][0]        \n",
      "__________________________________________________________________________________________________\n",
      "conv4_block4_1_relu (Activation (None, 14, 14, 256)  0           conv4_block4_1_bn[0][0]          \n",
      "__________________________________________________________________________________________________\n",
      "conv4_block4_2_conv (Conv2D)    (None, 14, 14, 256)  590080      conv4_block4_1_relu[0][0]        \n",
      "__________________________________________________________________________________________________\n",
      "conv4_block4_2_bn (BatchNormali (None, 14, 14, 256)  1024        conv4_block4_2_conv[0][0]        \n",
      "__________________________________________________________________________________________________\n",
      "conv4_block4_2_relu (Activation (None, 14, 14, 256)  0           conv4_block4_2_bn[0][0]          \n",
      "__________________________________________________________________________________________________\n",
      "conv4_block4_3_conv (Conv2D)    (None, 14, 14, 1024) 263168      conv4_block4_2_relu[0][0]        \n",
      "__________________________________________________________________________________________________\n",
      "conv4_block4_3_bn (BatchNormali (None, 14, 14, 1024) 4096        conv4_block4_3_conv[0][0]        \n",
      "__________________________________________________________________________________________________\n",
      "conv4_block4_add (Add)          (None, 14, 14, 1024) 0           conv4_block3_out[0][0]           \n",
      "                                                                 conv4_block4_3_bn[0][0]          \n",
      "__________________________________________________________________________________________________\n",
      "conv4_block4_out (Activation)   (None, 14, 14, 1024) 0           conv4_block4_add[0][0]           \n",
      "__________________________________________________________________________________________________\n",
      "conv4_block5_1_conv (Conv2D)    (None, 14, 14, 256)  262400      conv4_block4_out[0][0]           \n",
      "__________________________________________________________________________________________________\n",
      "conv4_block5_1_bn (BatchNormali (None, 14, 14, 256)  1024        conv4_block5_1_conv[0][0]        \n",
      "__________________________________________________________________________________________________\n",
      "conv4_block5_1_relu (Activation (None, 14, 14, 256)  0           conv4_block5_1_bn[0][0]          \n",
      "__________________________________________________________________________________________________\n",
      "conv4_block5_2_conv (Conv2D)    (None, 14, 14, 256)  590080      conv4_block5_1_relu[0][0]        \n",
      "__________________________________________________________________________________________________\n",
      "conv4_block5_2_bn (BatchNormali (None, 14, 14, 256)  1024        conv4_block5_2_conv[0][0]        \n",
      "__________________________________________________________________________________________________\n",
      "conv4_block5_2_relu (Activation (None, 14, 14, 256)  0           conv4_block5_2_bn[0][0]          \n",
      "__________________________________________________________________________________________________\n",
      "conv4_block5_3_conv (Conv2D)    (None, 14, 14, 1024) 263168      conv4_block5_2_relu[0][0]        \n",
      "__________________________________________________________________________________________________\n",
      "conv4_block5_3_bn (BatchNormali (None, 14, 14, 1024) 4096        conv4_block5_3_conv[0][0]        \n",
      "__________________________________________________________________________________________________\n",
      "conv4_block5_add (Add)          (None, 14, 14, 1024) 0           conv4_block4_out[0][0]           \n",
      "                                                                 conv4_block5_3_bn[0][0]          \n",
      "__________________________________________________________________________________________________\n",
      "conv4_block5_out (Activation)   (None, 14, 14, 1024) 0           conv4_block5_add[0][0]           \n",
      "__________________________________________________________________________________________________\n",
      "conv4_block6_1_conv (Conv2D)    (None, 14, 14, 256)  262400      conv4_block5_out[0][0]           \n",
      "__________________________________________________________________________________________________\n",
      "conv4_block6_1_bn (BatchNormali (None, 14, 14, 256)  1024        conv4_block6_1_conv[0][0]        \n",
      "__________________________________________________________________________________________________\n",
      "conv4_block6_1_relu (Activation (None, 14, 14, 256)  0           conv4_block6_1_bn[0][0]          \n",
      "__________________________________________________________________________________________________\n",
      "conv4_block6_2_conv (Conv2D)    (None, 14, 14, 256)  590080      conv4_block6_1_relu[0][0]        \n",
      "__________________________________________________________________________________________________\n",
      "conv4_block6_2_bn (BatchNormali (None, 14, 14, 256)  1024        conv4_block6_2_conv[0][0]        \n",
      "__________________________________________________________________________________________________\n",
      "conv4_block6_2_relu (Activation (None, 14, 14, 256)  0           conv4_block6_2_bn[0][0]          \n",
      "__________________________________________________________________________________________________\n",
      "conv4_block6_3_conv (Conv2D)    (None, 14, 14, 1024) 263168      conv4_block6_2_relu[0][0]        \n",
      "__________________________________________________________________________________________________\n",
      "conv4_block6_3_bn (BatchNormali (None, 14, 14, 1024) 4096        conv4_block6_3_conv[0][0]        \n",
      "__________________________________________________________________________________________________\n",
      "conv4_block6_add (Add)          (None, 14, 14, 1024) 0           conv4_block5_out[0][0]           \n",
      "                                                                 conv4_block6_3_bn[0][0]          \n",
      "__________________________________________________________________________________________________\n",
      "conv4_block6_out (Activation)   (None, 14, 14, 1024) 0           conv4_block6_add[0][0]           \n",
      "__________________________________________________________________________________________________\n",
      "conv5_block1_1_conv (Conv2D)    (None, 7, 7, 512)    524800      conv4_block6_out[0][0]           \n",
      "__________________________________________________________________________________________________\n",
      "conv5_block1_1_bn (BatchNormali (None, 7, 7, 512)    2048        conv5_block1_1_conv[0][0]        \n",
      "__________________________________________________________________________________________________\n",
      "conv5_block1_1_relu (Activation (None, 7, 7, 512)    0           conv5_block1_1_bn[0][0]          \n",
      "__________________________________________________________________________________________________\n",
      "conv5_block1_2_conv (Conv2D)    (None, 7, 7, 512)    2359808     conv5_block1_1_relu[0][0]        \n",
      "__________________________________________________________________________________________________\n",
      "conv5_block1_2_bn (BatchNormali (None, 7, 7, 512)    2048        conv5_block1_2_conv[0][0]        \n",
      "__________________________________________________________________________________________________\n",
      "conv5_block1_2_relu (Activation (None, 7, 7, 512)    0           conv5_block1_2_bn[0][0]          \n",
      "__________________________________________________________________________________________________\n",
      "conv5_block1_0_conv (Conv2D)    (None, 7, 7, 2048)   2099200     conv4_block6_out[0][0]           \n",
      "__________________________________________________________________________________________________\n",
      "conv5_block1_3_conv (Conv2D)    (None, 7, 7, 2048)   1050624     conv5_block1_2_relu[0][0]        \n",
      "__________________________________________________________________________________________________\n",
      "conv5_block1_0_bn (BatchNormali (None, 7, 7, 2048)   8192        conv5_block1_0_conv[0][0]        \n",
      "__________________________________________________________________________________________________\n",
      "conv5_block1_3_bn (BatchNormali (None, 7, 7, 2048)   8192        conv5_block1_3_conv[0][0]        \n",
      "__________________________________________________________________________________________________\n",
      "conv5_block1_add (Add)          (None, 7, 7, 2048)   0           conv5_block1_0_bn[0][0]          \n",
      "                                                                 conv5_block1_3_bn[0][0]          \n",
      "__________________________________________________________________________________________________\n",
      "conv5_block1_out (Activation)   (None, 7, 7, 2048)   0           conv5_block1_add[0][0]           \n",
      "__________________________________________________________________________________________________\n",
      "conv5_block2_1_conv (Conv2D)    (None, 7, 7, 512)    1049088     conv5_block1_out[0][0]           \n",
      "__________________________________________________________________________________________________\n",
      "conv5_block2_1_bn (BatchNormali (None, 7, 7, 512)    2048        conv5_block2_1_conv[0][0]        \n",
      "__________________________________________________________________________________________________\n",
      "conv5_block2_1_relu (Activation (None, 7, 7, 512)    0           conv5_block2_1_bn[0][0]          \n",
      "__________________________________________________________________________________________________\n",
      "conv5_block2_2_conv (Conv2D)    (None, 7, 7, 512)    2359808     conv5_block2_1_relu[0][0]        \n",
      "__________________________________________________________________________________________________\n",
      "conv5_block2_2_bn (BatchNormali (None, 7, 7, 512)    2048        conv5_block2_2_conv[0][0]        \n",
      "__________________________________________________________________________________________________\n",
      "conv5_block2_2_relu (Activation (None, 7, 7, 512)    0           conv5_block2_2_bn[0][0]          \n",
      "__________________________________________________________________________________________________\n",
      "conv5_block2_3_conv (Conv2D)    (None, 7, 7, 2048)   1050624     conv5_block2_2_relu[0][0]        \n",
      "__________________________________________________________________________________________________\n",
      "conv5_block2_3_bn (BatchNormali (None, 7, 7, 2048)   8192        conv5_block2_3_conv[0][0]        \n",
      "__________________________________________________________________________________________________\n",
      "conv5_block2_add (Add)          (None, 7, 7, 2048)   0           conv5_block1_out[0][0]           \n",
      "                                                                 conv5_block2_3_bn[0][0]          \n",
      "__________________________________________________________________________________________________\n",
      "conv5_block2_out (Activation)   (None, 7, 7, 2048)   0           conv5_block2_add[0][0]           \n",
      "__________________________________________________________________________________________________\n",
      "conv5_block3_1_conv (Conv2D)    (None, 7, 7, 512)    1049088     conv5_block2_out[0][0]           \n",
      "__________________________________________________________________________________________________\n",
      "conv5_block3_1_bn (BatchNormali (None, 7, 7, 512)    2048        conv5_block3_1_conv[0][0]        \n",
      "__________________________________________________________________________________________________\n",
      "conv5_block3_1_relu (Activation (None, 7, 7, 512)    0           conv5_block3_1_bn[0][0]          \n",
      "__________________________________________________________________________________________________\n",
      "conv5_block3_2_conv (Conv2D)    (None, 7, 7, 512)    2359808     conv5_block3_1_relu[0][0]        \n",
      "__________________________________________________________________________________________________\n",
      "conv5_block3_2_bn (BatchNormali (None, 7, 7, 512)    2048        conv5_block3_2_conv[0][0]        \n",
      "__________________________________________________________________________________________________\n",
      "conv5_block3_2_relu (Activation (None, 7, 7, 512)    0           conv5_block3_2_bn[0][0]          \n",
      "__________________________________________________________________________________________________\n",
      "conv5_block3_3_conv (Conv2D)    (None, 7, 7, 2048)   1050624     conv5_block3_2_relu[0][0]        \n",
      "__________________________________________________________________________________________________\n",
      "conv5_block3_3_bn (BatchNormali (None, 7, 7, 2048)   8192        conv5_block3_3_conv[0][0]        \n",
      "__________________________________________________________________________________________________\n",
      "conv5_block3_add (Add)          (None, 7, 7, 2048)   0           conv5_block2_out[0][0]           \n",
      "                                                                 conv5_block3_3_bn[0][0]          \n",
      "__________________________________________________________________________________________________\n",
      "conv5_block3_out (Activation)   (None, 7, 7, 2048)   0           conv5_block3_add[0][0]           \n",
      "__________________________________________________________________________________________________\n",
      "flatten (Flatten)               (None, 100352)       0           conv5_block3_out[0][0]           \n",
      "__________________________________________________________________________________________________\n",
      "dense (Dense)                   (None, 4)            401412      flatten[0][0]                    \n",
      "==================================================================================================\n",
      "Total params: 23,989,124\n",
      "Trainable params: 401,412\n",
      "Non-trainable params: 23,587,712\n",
      "__________________________________________________________________________________________________\n"
     ]
    }
   ],
   "source": [
    "model.summary()"
   ]
  },
  {
   "cell_type": "code",
   "execution_count": 13,
   "metadata": {
    "colab": {
     "base_uri": "https://localhost:8080/",
     "height": 72,
     "resources": {
      "http://localhost:8080/nbextensions/google.colab/files.js": {
       "data": "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",
       "headers": [
        [
         "content-type",
         "application/javascript"
        ]
       ],
       "ok": true,
       "status": 200,
       "status_text": ""
      }
     }
    },
    "id": "SmFnLxabOruW",
    "outputId": "e35a6410-2cf2-4a71-bd04-e10a502adbf7"
   },
   "outputs": [
    {
     "data": {
      "text/html": [
       "\n",
       "     <input type=\"file\" id=\"files-1c575f7f-53f3-478d-b90d-f14aea0038e7\" name=\"files[]\" multiple disabled\n",
       "        style=\"border:none\" />\n",
       "     <output id=\"result-1c575f7f-53f3-478d-b90d-f14aea0038e7\">\n",
       "      Upload widget is only available when the cell has been executed in the\n",
       "      current browser session. Please rerun this cell to enable.\n",
       "      </output>\n",
       "      <script src=\"/nbextensions/google.colab/files.js\"></script> "
      ],
      "text/plain": [
       "<IPython.core.display.HTML object>"
      ]
     },
     "metadata": {
      "tags": []
     },
     "output_type": "display_data"
    },
    {
     "name": "stdout",
     "output_type": "stream",
     "text": [
      "Saving Data.zip to Data.zip\n"
     ]
    }
   ],
   "source": [
    "from google.colab import files\n",
    "uploaded = files.upload()"
   ]
  },
  {
   "cell_type": "code",
   "execution_count": 14,
   "metadata": {
    "colab": {
     "base_uri": "https://localhost:8080/"
    },
    "id": "Lw_oTPMsOwWK",
    "outputId": "a0fe3832-2bf2-4ed0-ac82-ad5bc0599f7a"
   },
   "outputs": [
    {
     "name": "stdout",
     "output_type": "stream",
     "text": [
      "Archive:  Data.zip\n",
      "   creating: Data/\n",
      "   creating: Data/Test/\n",
      "   creating: Data/Test/Harshita/\n",
      "  inflating: Data/Test/Harshita/enhanced_image_h1.jpg  \n",
      "  inflating: Data/Test/Harshita/enhanced_image_h2.jpg  \n",
      "  inflating: Data/Test/Harshita/enhanced_image_h3.jpg  \n",
      "  inflating: Data/Test/Harshita/enhanced_image_h4.jpg  \n",
      "   creating: Data/Test/Neetish/\n",
      "  inflating: Data/Test/Neetish/enhanced_image_n1.jpg  \n",
      "  inflating: Data/Test/Neetish/enhanced_image_n2.jpg  \n",
      "  inflating: Data/Test/Neetish/enhanced_image_n3.jpg  \n",
      "  inflating: Data/Test/Neetish/enhanced_image_n4.jpg  \n",
      "   creating: Data/Test/Shivangi/\n",
      "  inflating: Data/Test/Shivangi/enhanced_image_s1.jpg  \n",
      "  inflating: Data/Test/Shivangi/enhanced_image_s3.jpg  \n",
      "  inflating: Data/Test/Shivangi/enhanced_image_s4.jpg  \n",
      "  inflating: Data/Test/Shivangi/_s2.jpg  \n",
      "   creating: Data/Test/Vicky/\n",
      "  inflating: Data/Test/Vicky/enhanced_image_v1.jpg  \n",
      "  inflating: Data/Test/Vicky/enhanced_image_v2.jpg  \n",
      "  inflating: Data/Test/Vicky/enhanced_image_v3.jpg  \n",
      "  inflating: Data/Test/Vicky/enhanced_image_v4.jpg  \n",
      "   creating: Data/Train/\n",
      "   creating: Data/Train/Harshita/\n",
      "  inflating: Data/Train/Harshita/enhanced_image_h1.jpg  \n",
      "  inflating: Data/Train/Harshita/enhanced_image_h2.jpg  \n",
      "  inflating: Data/Train/Harshita/enhanced_image_h3.jpg  \n",
      "  inflating: Data/Train/Harshita/enhanced_image_h4.jpg  \n",
      "   creating: Data/Train/Neetish/\n",
      "  inflating: Data/Train/Neetish/enhanced_image_n1.jpg  \n",
      "  inflating: Data/Train/Neetish/enhanced_image_n2.jpg  \n",
      "  inflating: Data/Train/Neetish/enhanced_image_n3.jpg  \n",
      "  inflating: Data/Train/Neetish/enhanced_image_n4.jpg  \n",
      "   creating: Data/Train/Shivangi/\n",
      "  inflating: Data/Train/Shivangi/enhanced_image_s1.jpg  \n",
      "  inflating: Data/Train/Shivangi/enhanced_image_s3.jpg  \n",
      "  inflating: Data/Train/Shivangi/enhanced_image_s4.jpg  \n",
      "  inflating: Data/Train/Shivangi/_s2.jpg  \n",
      "   creating: Data/Train/Vicky/\n",
      "  inflating: Data/Train/Vicky/enhanced_image_v1.jpg  \n",
      "  inflating: Data/Train/Vicky/enhanced_image_v2.jpg  \n",
      "  inflating: Data/Train/Vicky/enhanced_image_v3.jpg  \n",
      "  inflating: Data/Train/Vicky/enhanced_image_v4.jpg  \n"
     ]
    }
   ],
   "source": [
    "!unzip 'Data.zip'"
   ]
  },
  {
   "cell_type": "code",
   "execution_count": 15,
   "metadata": {
    "colab": {
     "base_uri": "https://localhost:8080/"
    },
    "id": "a536TBXjO3zn",
    "outputId": "d2f130a6-e771-447f-fe91-d5393db6bac6"
   },
   "outputs": [
    {
     "name": "stdout",
     "output_type": "stream",
     "text": [
      "4\n"
     ]
    }
   ],
   "source": [
    "# useful for getting number of classes\n",
    "folders = glob('Data/Train/*')\n",
    "print(len(folders))"
   ]
  },
  {
   "cell_type": "code",
   "execution_count": 16,
   "metadata": {
    "id": "mvDZ7CTrO8Uc"
   },
   "outputs": [],
   "source": [
    "train='Data/Train'\n",
    "test='Data/Test'\n",
    "#valid='Data/Valid'"
   ]
  },
  {
   "cell_type": "code",
   "execution_count": 17,
   "metadata": {
    "colab": {
     "base_uri": "https://localhost:8080/"
    },
    "id": "6vcE5VnRPAHd",
    "outputId": "3d6c97b2-2782-4044-ed1e-fa21b7cb172d"
   },
   "outputs": [
    {
     "data": {
      "text/plain": [
       "10"
      ]
     },
     "execution_count": 17,
     "metadata": {
      "tags": []
     },
     "output_type": "execute_result"
    }
   ],
   "source": [
    "len(train)"
   ]
  },
  {
   "cell_type": "code",
   "execution_count": 19,
   "metadata": {
    "id": "bSzFtUvyPFuW"
   },
   "outputs": [],
   "source": [
    "train_datagen = ImageDataGenerator(rescale = 1./255,\n",
    "                                   shear_range = 0.2,\n",
    "                                   zoom_range = 0.2,\n",
    "                                   horizontal_flip = True)\n",
    "\n",
    "test_datagen = ImageDataGenerator(rescale = 1./255)"
   ]
  },
  {
   "cell_type": "code",
   "execution_count": 21,
   "metadata": {
    "id": "1t_1L62APG6S"
   },
   "outputs": [],
   "source": [
    "# Data Augmentation\n",
    "train_datagen = ImageDataGenerator(\n",
    "    preprocessing_function=preprocess_input,\n",
    "    rotation_range=40,\n",
    "    width_shift_range=0.2,\n",
    "    height_shift_range=0.2,\n",
    "    shear_range=0.2,\n",
    "    zoom_range=0.2,\n",
    "    horizontal_flip=True,\n",
    "    fill_mode='nearest')"
   ]
  },
  {
   "cell_type": "code",
   "execution_count": 22,
   "metadata": {
    "id": "cmn_R6HiPKX1"
   },
   "outputs": [],
   "source": [
    "# Data Augmentation\n",
    "test_datagen = ImageDataGenerator(\n",
    "    preprocessing_function=preprocess_input,\n",
    "    rotation_range=40,\n",
    "    width_shift_range=0.2,\n",
    "    height_shift_range=0.2,\n",
    "    shear_range=0.2,\n",
    "    zoom_range=0.2,\n",
    "    horizontal_flip=True,\n",
    "    fill_mode='nearest')"
   ]
  },
  {
   "cell_type": "code",
   "execution_count": 23,
   "metadata": {
    "colab": {
     "base_uri": "https://localhost:8080/"
    },
    "id": "32k163ZyPOSA",
    "outputId": "89021017-b8b9-454a-b3a9-e7fc3ad809f3"
   },
   "outputs": [
    {
     "name": "stdout",
     "output_type": "stream",
     "text": [
      "Found 16 images belonging to 4 classes.\n",
      "Found 16 images belonging to 4 classes.\n"
     ]
    }
   ],
   "source": [
    "from keras.preprocessing.image import ImageDataGenerator\n",
    "train_set=train_datagen.flow_from_directory(train,target_size=(224,224),class_mode='categorical',\n",
    "                                                      batch_size=32)\n",
    "test_set=test_datagen.flow_from_directory(test,target_size=(224,224),class_mode='categorical',   \n",
    "                                                      batch_size=32)\n",
    "#valid_set=valid_datagen.flow_from_directory(valid,target_size=(224,224),class_mode='categorical',\n",
    " #                                           batch_size=4,shuffle=True)"
   ]
  },
  {
   "cell_type": "code",
   "execution_count": 24,
   "metadata": {
    "id": "ZheKIReYPU5u"
   },
   "outputs": [],
   "source": [
    "from keras import optimizers\n",
    "#sgd = optimizers.SGD(lr=0.01, decay=1e-6, momentum=0.9)\n",
    "model.compile(\n",
    "  loss='categorical_crossentropy',\n",
    "  optimizer='adam',\n",
    "  metrics=['accuracy']\n",
    ")"
   ]
  },
  {
   "cell_type": "code",
   "execution_count": 25,
   "metadata": {
    "colab": {
     "base_uri": "https://localhost:8080/"
    },
    "id": "h4tlM8bSPYKD",
    "outputId": "c7b00b39-b0d0-4968-9c8f-ccdbbe99f75f"
   },
   "outputs": [
    {
     "data": {
      "text/plain": [
       "{'Harshita': 0, 'Neetish': 1, 'Shivangi': 2, 'Vicky': 3}"
      ]
     },
     "execution_count": 25,
     "metadata": {
      "tags": []
     },
     "output_type": "execute_result"
    }
   ],
   "source": [
    "train_set.class_indices"
   ]
  },
  {
   "cell_type": "code",
   "execution_count": 88,
   "metadata": {
    "colab": {
     "base_uri": "https://localhost:8080/"
    },
    "id": "1-IOMnpnPZIt",
    "outputId": "234dc933-edd2-4c9a-83d8-e0fd6a4330fa"
   },
   "outputs": [
    {
     "name": "stderr",
     "output_type": "stream",
     "text": [
      "/usr/local/lib/python3.7/dist-packages/tensorflow/python/keras/engine/training.py:1844: UserWarning: `Model.fit_generator` is deprecated and will be removed in a future version. Please use `Model.fit`, which supports generators.\n",
      "  warnings.warn('`Model.fit_generator` is deprecated and '\n"
     ]
    },
    {
     "name": "stdout",
     "output_type": "stream",
     "text": [
      "Epoch 1/50\n",
      "1/1 [==============================] - 4s 4s/step - loss: 4.0513 - accuracy: 0.7500 - val_loss: 3.6724 - val_accuracy: 0.6875\n",
      "Epoch 2/50\n",
      "1/1 [==============================] - 4s 4s/step - loss: 1.7479 - accuracy: 0.8750 - val_loss: 1.8412 - val_accuracy: 0.8750\n",
      "Epoch 3/50\n",
      "1/1 [==============================] - 4s 4s/step - loss: 6.7051e-05 - accuracy: 1.0000 - val_loss: 1.9978 - val_accuracy: 0.8750\n",
      "Epoch 4/50\n",
      "1/1 [==============================] - 4s 4s/step - loss: 1.6594 - accuracy: 0.6875 - val_loss: 3.4520 - val_accuracy: 0.7500\n",
      "Epoch 5/50\n",
      "1/1 [==============================] - 4s 4s/step - loss: 10.3029 - accuracy: 0.6875 - val_loss: 5.2525 - val_accuracy: 0.7500\n",
      "Epoch 6/50\n",
      "1/1 [==============================] - 4s 4s/step - loss: 2.9699 - accuracy: 0.8750 - val_loss: 8.2700 - val_accuracy: 0.8125\n",
      "Epoch 7/50\n",
      "1/1 [==============================] - 4s 4s/step - loss: 2.8638 - accuracy: 0.8125 - val_loss: 2.2080 - val_accuracy: 0.9375\n",
      "Epoch 8/50\n",
      "1/1 [==============================] - 4s 4s/step - loss: 1.8562 - accuracy: 0.8750 - val_loss: 0.5695 - val_accuracy: 0.8750\n",
      "Epoch 9/50\n",
      "1/1 [==============================] - 4s 4s/step - loss: 1.5280 - accuracy: 0.8750 - val_loss: 3.8847 - val_accuracy: 0.8125\n",
      "Epoch 10/50\n",
      "1/1 [==============================] - 4s 4s/step - loss: 0.0259 - accuracy: 1.0000 - val_loss: 1.5429 - val_accuracy: 0.8125\n",
      "Epoch 11/50\n",
      "1/1 [==============================] - 4s 4s/step - loss: 1.6895 - accuracy: 0.8125 - val_loss: 2.2730 - val_accuracy: 0.8750\n",
      "Epoch 12/50\n",
      "1/1 [==============================] - 4s 4s/step - loss: 0.9191 - accuracy: 0.9375 - val_loss: 2.0324 - val_accuracy: 0.8750\n",
      "Epoch 13/50\n",
      "1/1 [==============================] - 4s 4s/step - loss: 0.3143 - accuracy: 0.9375 - val_loss: 0.5295 - val_accuracy: 0.8750\n",
      "Epoch 14/50\n",
      "1/1 [==============================] - 4s 4s/step - loss: 6.2423 - accuracy: 0.8125 - val_loss: 2.9912 - val_accuracy: 0.8125\n",
      "Epoch 15/50\n",
      "1/1 [==============================] - 4s 4s/step - loss: 2.1788 - accuracy: 0.8750 - val_loss: 1.5644 - val_accuracy: 0.8750\n",
      "Epoch 16/50\n",
      "1/1 [==============================] - 4s 4s/step - loss: 3.5914e-05 - accuracy: 1.0000 - val_loss: 0.0581 - val_accuracy: 0.9375\n",
      "Epoch 17/50\n",
      "1/1 [==============================] - 4s 4s/step - loss: 1.6010e-05 - accuracy: 1.0000 - val_loss: 3.7656 - val_accuracy: 0.6250\n",
      "Epoch 18/50\n",
      "1/1 [==============================] - 4s 4s/step - loss: 5.9110 - accuracy: 0.6875 - val_loss: 3.9983 - val_accuracy: 0.8125\n",
      "Epoch 19/50\n",
      "1/1 [==============================] - 4s 4s/step - loss: 2.8236 - accuracy: 0.8125 - val_loss: 2.0463 - val_accuracy: 0.7500\n",
      "Epoch 20/50\n",
      "1/1 [==============================] - 4s 4s/step - loss: 3.3793 - accuracy: 0.8125 - val_loss: 4.1873e-04 - val_accuracy: 1.0000\n",
      "Epoch 21/50\n",
      "1/1 [==============================] - 4s 4s/step - loss: 0.1938 - accuracy: 0.9375 - val_loss: 3.1568 - val_accuracy: 0.8750\n",
      "Epoch 22/50\n",
      "1/1 [==============================] - 4s 4s/step - loss: 0.1188 - accuracy: 0.9375 - val_loss: 2.8872 - val_accuracy: 0.9375\n",
      "Epoch 23/50\n",
      "1/1 [==============================] - 4s 4s/step - loss: 0.8319 - accuracy: 0.9375 - val_loss: 2.9308 - val_accuracy: 0.8750\n",
      "Epoch 24/50\n",
      "1/1 [==============================] - 4s 4s/step - loss: 2.7385 - accuracy: 0.8750 - val_loss: 1.8657 - val_accuracy: 0.8125\n",
      "Epoch 25/50\n",
      "1/1 [==============================] - 4s 4s/step - loss: 2.2370 - accuracy: 0.8125 - val_loss: 1.5968 - val_accuracy: 0.8750\n",
      "Epoch 26/50\n",
      "1/1 [==============================] - 4s 4s/step - loss: 1.5387 - accuracy: 0.8750 - val_loss: 1.6307 - val_accuracy: 0.9375\n",
      "Epoch 27/50\n",
      "1/1 [==============================] - 4s 4s/step - loss: 1.5336 - accuracy: 0.8125 - val_loss: 1.2534 - val_accuracy: 0.8125\n",
      "Epoch 28/50\n",
      "1/1 [==============================] - 4s 4s/step - loss: 3.4543 - accuracy: 0.6875 - val_loss: 1.2270 - val_accuracy: 0.8750\n",
      "Epoch 29/50\n",
      "1/1 [==============================] - 4s 4s/step - loss: 1.6899 - accuracy: 0.9375 - val_loss: 0.2566 - val_accuracy: 0.9375\n",
      "Epoch 30/50\n",
      "1/1 [==============================] - 4s 4s/step - loss: 0.8713 - accuracy: 0.9375 - val_loss: 0.7574 - val_accuracy: 0.9375\n",
      "Epoch 31/50\n",
      "1/1 [==============================] - 4s 4s/step - loss: 2.2332 - accuracy: 0.8750 - val_loss: 0.2252 - val_accuracy: 0.9375\n",
      "Epoch 32/50\n",
      "1/1 [==============================] - 4s 4s/step - loss: 0.0639 - accuracy: 0.9375 - val_loss: 0.5009 - val_accuracy: 0.9375\n",
      "Epoch 33/50\n",
      "1/1 [==============================] - 4s 4s/step - loss: 1.3626 - accuracy: 0.9375 - val_loss: 3.5976 - val_accuracy: 0.7500\n",
      "Epoch 34/50\n",
      "1/1 [==============================] - 4s 4s/step - loss: 2.0607 - accuracy: 0.8125 - val_loss: 4.6127 - val_accuracy: 0.6875\n",
      "Epoch 35/50\n",
      "1/1 [==============================] - 4s 4s/step - loss: 2.8953 - accuracy: 0.8750 - val_loss: 2.5658 - val_accuracy: 0.8125\n",
      "Epoch 36/50\n",
      "1/1 [==============================] - 4s 4s/step - loss: 1.0869 - accuracy: 0.9375 - val_loss: 2.0212 - val_accuracy: 0.8125\n",
      "Epoch 37/50\n",
      "1/1 [==============================] - 4s 4s/step - loss: 3.5560 - accuracy: 0.8125 - val_loss: 3.5535 - val_accuracy: 0.7500\n",
      "Epoch 38/50\n",
      "1/1 [==============================] - 4s 4s/step - loss: 0.5460 - accuracy: 0.8750 - val_loss: 0.0275 - val_accuracy: 1.0000\n",
      "Epoch 39/50\n",
      "1/1 [==============================] - 4s 4s/step - loss: 1.7288 - accuracy: 0.7500 - val_loss: 0.0000e+00 - val_accuracy: 1.0000\n",
      "Epoch 40/50\n",
      "1/1 [==============================] - 4s 4s/step - loss: 0.0000e+00 - accuracy: 1.0000 - val_loss: 1.6384 - val_accuracy: 0.8750\n",
      "Epoch 41/50\n",
      "1/1 [==============================] - 4s 4s/step - loss: 2.6430e-04 - accuracy: 1.0000 - val_loss: 3.8518e-06 - val_accuracy: 1.0000\n",
      "Epoch 42/50\n",
      "1/1 [==============================] - 4s 4s/step - loss: 2.1594 - accuracy: 0.9375 - val_loss: 0.2166 - val_accuracy: 0.9375\n",
      "Epoch 43/50\n",
      "1/1 [==============================] - 4s 4s/step - loss: 2.5794e-04 - accuracy: 1.0000 - val_loss: 1.4806 - val_accuracy: 0.8750\n",
      "Epoch 44/50\n",
      "1/1 [==============================] - 4s 4s/step - loss: 3.5917 - accuracy: 0.9375 - val_loss: 0.0791 - val_accuracy: 0.9375\n",
      "Epoch 45/50\n",
      "1/1 [==============================] - 4s 4s/step - loss: 1.4751 - accuracy: 0.8750 - val_loss: 0.1546 - val_accuracy: 0.9375\n",
      "Epoch 46/50\n",
      "1/1 [==============================] - 4s 4s/step - loss: 3.6617e-05 - accuracy: 1.0000 - val_loss: 0.9573 - val_accuracy: 0.9375\n",
      "Epoch 47/50\n",
      "1/1 [==============================] - 4s 4s/step - loss: 0.5388 - accuracy: 0.8750 - val_loss: 2.4622 - val_accuracy: 0.8750\n",
      "Epoch 48/50\n",
      "1/1 [==============================] - 4s 4s/step - loss: 0.0032 - accuracy: 1.0000 - val_loss: 3.5755 - val_accuracy: 0.8125\n",
      "Epoch 49/50\n",
      "1/1 [==============================] - 4s 4s/step - loss: 0.0557 - accuracy: 0.9375 - val_loss: 1.9186 - val_accuracy: 0.8750\n",
      "Epoch 50/50\n",
      "1/1 [==============================] - 4s 4s/step - loss: 1.4784 - accuracy: 0.8750 - val_loss: 1.4901e-07 - val_accuracy: 1.0000\n"
     ]
    }
   ],
   "source": [
    "r = model.fit_generator(\n",
    "  train_set,\n",
    "  validation_data=test_set,\n",
    "  epochs=50,\n",
    "  steps_per_epoch=len(train_set),\n",
    "  validation_steps=len(test_set)\n",
    ")"
   ]
  },
  {
   "cell_type": "code",
   "execution_count": 89,
   "metadata": {
    "colab": {
     "base_uri": "https://localhost:8080/",
     "height": 530
    },
    "id": "lby1ESuZPhdr",
    "outputId": "be29a8ea-6ee5-4eca-bb9d-1594cf5499fd"
   },
   "outputs": [
    {
     "data": {
      "image/png": "[encoded data removed]",
      "text/plain": [
       "<Figure size 432x288 with 1 Axes>"
      ]
     },
     "metadata": {
      "needs_background": "light",
      "tags": []
     },
     "output_type": "display_data"
    },
    {
     "data": {
      "image/png": "[encoded data removed]",
      "text/plain": [
       "<Figure size 432x288 with 1 Axes>"
      ]
     },
     "metadata": {
      "needs_background": "light",
      "tags": []
     },
     "output_type": "display_data"
    },
    {
     "data": {
      "text/plain": [
       "<Figure size 432x288 with 0 Axes>"
      ]
     },
     "metadata": {
      "tags": []
     },
     "output_type": "display_data"
    }
   ],
   "source": [
    "# plot the loss\n",
    "plt.plot(r.history['loss'], label='train loss')\n",
    "plt.plot(r.history['val_loss'], label='val loss')\n",
    "plt.legend()\n",
    "plt.show()\n",
    "plt.savefig('LossVal_loss')\n",
    "\n",
    "# plot the accuracy\n",
    "plt.plot(r.history['accuracy'], label='train acc')\n",
    "plt.plot(r.history['val_accuracy'], label='val acc')\n",
    "plt.legend()\n",
    "plt.show()\n",
    "plt.savefig('AccVal_acc')"
   ]
  },
  {
   "cell_type": "code",
   "execution_count": 90,
   "metadata": {
    "colab": {
     "base_uri": "https://localhost:8080/"
    },
    "id": "cycgoBONPigS",
    "outputId": "5e9aea21-eeb4-43c6-a9b4-da02cef75a50"
   },
   "outputs": [
    {
     "name": "stderr",
     "output_type": "stream",
     "text": [
      "/usr/local/lib/python3.7/dist-packages/tensorflow/python/keras/engine/training.py:1905: UserWarning: `Model.predict_generator` is deprecated and will be removed in a future version. Please use `Model.predict`, which supports generators.\n",
      "  warnings.warn('`Model.predict_generator` is deprecated and '\n"
     ]
    }
   ],
   "source": [
    "pred=model.predict_generator(test_set)"
   ]
  },
  {
   "cell_type": "code",
   "execution_count": 91,
   "metadata": {
    "colab": {
     "base_uri": "https://localhost:8080/"
    },
    "id": "sWlF6SCnPmZC",
    "outputId": "dd8bd30d-d489-40fe-e92a-0806217028d6"
   },
   "outputs": [
    {
     "data": {
      "text/plain": [
       "{'Harshita': 0, 'Neetish': 1, 'Shivangi': 2, 'Vicky': 3}"
      ]
     },
     "execution_count": 91,
     "metadata": {
      "tags": []
     },
     "output_type": "execute_result"
    }
   ],
   "source": [
    "test_set.class_indices"
   ]
  },
  {
   "cell_type": "code",
   "execution_count": 92,
   "metadata": {
    "colab": {
     "base_uri": "https://localhost:8080/"
    },
    "id": "o-JUpDgkPr7P",
    "outputId": "261005ac-34b3-49fb-cf64-26e87f68c4d4"
   },
   "outputs": [
    {
     "name": "stdout",
     "output_type": "stream",
     "text": [
      "[[2.4217123e-32 1.5245708e-34 1.0000000e+00 2.2523865e-35]\n",
      " [7.3031208e-20 1.1261707e-17 1.0000000e+00 6.0748074e-29]\n",
      " [0.0000000e+00 1.4550070e-09 0.0000000e+00 1.0000000e+00]\n",
      " [5.8998411e-30 1.0000000e+00 0.0000000e+00 5.5954692e-17]\n",
      " [1.5367704e-24 1.0000000e+00 0.0000000e+00 1.0182983e-27]\n",
      " [1.0000000e+00 2.1177210e-36 0.0000000e+00 1.8139014e-34]\n",
      " [9.9981397e-01 1.8609675e-04 0.0000000e+00 9.5173996e-22]\n",
      " [1.0000000e+00 7.9000495e-09 4.5382618e-20 0.0000000e+00]\n",
      " [1.0000000e+00 1.2453020e-33 1.1100626e-37 7.7381835e-35]\n",
      " [3.5197050e-15 1.0000000e+00 0.0000000e+00 4.9802907e-22]\n",
      " [3.2982182e-30 7.5232574e-35 1.0000000e+00 1.5301059e-34]\n",
      " [7.6373241e-14 5.3763194e-36 1.0000000e+00 3.1995009e-37]\n",
      " [1.0000000e+00 0.0000000e+00 8.8927286e-23 3.3867238e-32]\n",
      " [3.4707741e-14 9.3641496e-08 5.8073539e-37 9.9999988e-01]\n",
      " [5.3353093e-23 1.6100833e-19 1.3651398e-37 1.0000000e+00]\n",
      " [2.4615417e-35 9.5665939e-07 0.0000000e+00 9.9999905e-01]]\n"
     ]
    }
   ],
   "source": [
    "print(pred)"
   ]
  },
  {
   "cell_type": "code",
   "execution_count": 93,
   "metadata": {
    "id": "YdxgZAY7PtEn"
   },
   "outputs": [],
   "source": [
    "predicted_class_indices=np.argmax(pred,axis=1)"
   ]
  },
  {
   "cell_type": "code",
   "execution_count": 94,
   "metadata": {
    "colab": {
     "base_uri": "https://localhost:8080/"
    },
    "id": "UqmNiSKCPz8Q",
    "outputId": "90645611-d224-4825-c2f0-0aa1b1b762a5"
   },
   "outputs": [
    {
     "data": {
      "text/plain": [
       "array([2, 2, 3, 1, 1, 0, 0, 0, 0, 1, 2, 2, 0, 3, 3, 3])"
      ]
     },
     "execution_count": 94,
     "metadata": {
      "tags": []
     },
     "output_type": "execute_result"
    }
   ],
   "source": [
    "predicted_class_indices"
   ]
  },
  {
   "cell_type": "code",
   "execution_count": 95,
   "metadata": {
    "id": "Vc3ew3SRP37J"
   },
   "outputs": [],
   "source": [
    "labels = (train_set.class_indices)\n",
    "labels = dict((v,k) for k,v in labels.items())\n",
    "predictions = [labels[k] for k in predicted_class_indices]"
   ]
  },
  {
   "cell_type": "code",
   "execution_count": 96,
   "metadata": {
    "colab": {
     "base_uri": "https://localhost:8080/"
    },
    "id": "ErZohfGaP5Jx",
    "outputId": "fc234611-4af2-4ee8-b873-b9de19431d4f"
   },
   "outputs": [
    {
     "name": "stdout",
     "output_type": "stream",
     "text": [
      "{0: 'Harshita', 1: 'Neetish', 2: 'Shivangi', 3: 'Vicky'}\n"
     ]
    }
   ],
   "source": [
    "print(labels)"
   ]
  },
  {
   "cell_type": "code",
   "execution_count": 97,
   "metadata": {
    "colab": {
     "base_uri": "https://localhost:8080/"
    },
    "id": "NOWb1DNAP8mt",
    "outputId": "09ce3a8e-6374-4e01-87cb-646cac708b11"
   },
   "outputs": [
    {
     "name": "stdout",
     "output_type": "stream",
     "text": [
      "['Harshita/enhanced_image_h1.jpg', 'Harshita/enhanced_image_h2.jpg', 'Harshita/enhanced_image_h3.jpg', 'Harshita/enhanced_image_h4.jpg', 'Neetish/enhanced_image_n1.jpg', 'Neetish/enhanced_image_n2.jpg', 'Neetish/enhanced_image_n3.jpg', 'Neetish/enhanced_image_n4.jpg', 'Shivangi/_s2.jpg', 'Shivangi/enhanced_image_s1.jpg', 'Shivangi/enhanced_image_s3.jpg', 'Shivangi/enhanced_image_s4.jpg', 'Vicky/enhanced_image_v1.jpg', 'Vicky/enhanced_image_v2.jpg', 'Vicky/enhanced_image_v3.jpg', 'Vicky/enhanced_image_v4.jpg']\n"
     ]
    }
   ],
   "source": [
    "print(test_set.filenames)"
   ]
  },
  {
   "cell_type": "code",
   "execution_count": 98,
   "metadata": {
    "colab": {
     "base_uri": "https://localhost:8080/"
    },
    "id": "BeG_MYLDQAMq",
    "outputId": "5082ef30-bd2a-49f2-fe78-0df418175903"
   },
   "outputs": [
    {
     "data": {
      "text/plain": [
       "['Shivangi',\n",
       " 'Shivangi',\n",
       " 'Vicky',\n",
       " 'Neetish',\n",
       " 'Neetish',\n",
       " 'Harshita',\n",
       " 'Harshita',\n",
       " 'Harshita',\n",
       " 'Harshita',\n",
       " 'Neetish',\n",
       " 'Shivangi',\n",
       " 'Shivangi',\n",
       " 'Harshita',\n",
       " 'Vicky',\n",
       " 'Vicky',\n",
       " 'Vicky']"
      ]
     },
     "execution_count": 98,
     "metadata": {
      "tags": []
     },
     "output_type": "execute_result"
    }
   ],
   "source": [
    "predictions"
   ]
  },
  {
   "cell_type": "markdown",
   "metadata": {
    "id": "IaIHMdph3pTY"
   },
   "source": [
    "## **Trained Model**"
   ]
  },
  {
   "cell_type": "code",
   "execution_count": 99,
   "metadata": {
    "id": "StC4wj4XhmXJ"
   },
   "outputs": [],
   "source": [
    "from tensorflow.keras.models import load_model\n",
    "model.save('model_resnet50.h5')"
   ]
  },
  {
   "cell_type": "code",
   "execution_count": 100,
   "metadata": {
    "id": "IU7agGxlh45G"
   },
   "outputs": [],
   "source": [
    "from tensorflow.keras.preprocessing import image\n",
    "mymodel=load_model('model_resnet50.h5')\n"
   ]
  },
  {
   "cell_type": "code",
   "execution_count": 101,
   "metadata": {
    "id": "4ipNMsCuQf33"
   },
   "outputs": [],
   "source": [
    "import cv2\n",
    "import matplotlib.pyplot as plt\n"
   ]
  },
  {
   "cell_type": "markdown",
   "metadata": {
    "id": "FSzuPgUh322v"
   },
   "source": [
    "**OUTPUT**"
   ]
  },
  {
   "cell_type": "code",
   "execution_count": 106,
   "metadata": {
    "colab": {
     "base_uri": "https://localhost:8080/",
     "height": 286
    },
    "id": "8jMPqdf1QkwD",
    "outputId": "bc91105f-ad9d-4d96-d1a5-797a3026291d"
   },
   "outputs": [
    {
     "name": "stdout",
     "output_type": "stream",
     "text": [
      "Vicky\n"
     ]
    },
    {
     "data": {
      "image/png": "[encoded data removed]",
      "text/plain": [
       "<Figure size 432x288 with 1 Axes>"
      ]
     },
     "metadata": {
      "needs_background": "light",
      "tags": []
     },
     "output_type": "display_data"
    }
   ],
   "source": [
    "IMG_PATH=\"Data/Test/Vicky/enhanced_image_v1.jpg\"\n",
    "myimage=cv2.imread(IMG_PATH)\n",
    "plt.imshow(myimage)\n",
    "img=image.load_img(IMG_PATH,target_size=(224,224))\n",
    "x=image.img_to_array(img)\n",
    "x=np.expand_dims(x,axis=0)\n",
    "img_data=preprocess_input(x)\n",
    "mymodel.predict(img_data)\n",
    "#see index 1 having highest probability 99.96%\n",
    "a=np.argmax(mymodel.predict(img_data),axis=1)\n",
    "if(a==0):\n",
    "  print(\"Harshita\")\n",
    "if(a==1):\n",
    "  print(\"Neetish\")\n",
    "if(a==2):\n",
    "  print(\"Shivangi\")\n",
    "if(a==3):\n",
    "  print(\"Vicky\")\n"
   ]
  }
 ],
 "metadata": {
  "colab": {
   "collapsed_sections": [],
   "name": "Fingerprint.ipynb",
   "provenance": []
  },
  "kernelspec": {
   "display_name": "Python 3",
   "language": "python",
   "name": "python3"
  },
  "language_info": {
   "codemirror_mode": {
    "name": "ipython",
    "version": 3
   },
   "file_extension": ".py",
   "mimetype": "text/x-python",
   "name": "python",
   "nbconvert_exporter": "python",
   "pygments_lexer": "ipython3",
   "version": "3.8.5"
  }
 },
 "nbformat": 4,
 "nbformat_minor": 1
}
