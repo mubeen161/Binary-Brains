{
 "cells": [
  {
   "cell_type": "code",
   "execution_count": 1,
   "id": "9323132b",
   "metadata": {},
   "outputs": [],
   "source": [
    "import cv2\n",
    "import numpy as np\n",
    "import matplotlib.pyplot as plt\n",
    "\n",
    "min_HSV = np.array([0, 45, 30], dtype = \"uint8\")\n",
    "max_HSV = np.array([255, 255, 255], dtype = \"uint8\")\n",
    "# Get pointer to video frames from primary device\n",
    "image = cv2.imread(\"fingerimages/img1.jpg\",1)\n",
    "#plt.imshow(image)\n",
    "\n",
    "imageHSV = cv2.cvtColor(image, cv2.COLOR_BGR2HSV)\n",
    "skinRegionHSV = cv2.inRange(imageHSV, min_HSV, max_HSV)\n",
    "\n",
    "skinHSV = cv2.bitwise_and(image, image, mask = skinRegionHSV)\n",
    "\n",
    "cv2.imwrite(\"fingerimages/hsv.png\", np.hstack([image, skinHSV]))\n",
    "\n",
    "\n",
    "\n",
    "#cv2.namedWindow(\"output\", cv2.WINDOW_NORMAL)        # Create window with freedom of dimensions\n",
    "img2=cv2.imread(\"fingerimages/hsv.png\",1)                       # Read image\n",
    "#imS = cv2.resize(img2, (1366, 768))                    # Resize image\n",
    "cv2.imshow(\"output\", img2)                            # Show image\n",
    "#cv2.waitKey(0)\n",
    "\n"
   ]
  },
  {
   "cell_type": "markdown",
   "id": "0ae88dcb",
   "metadata": {},
   "source": [
    "# ROI EXTRACTION"
   ]
  },
  {
   "cell_type": "code",
   "execution_count": null,
   "id": "33338451",
   "metadata": {},
   "outputs": [],
   "source": [
    "\n",
    "import cv2\n",
    "import numpy as np\n",
    "import matplotlib.pyplot as plt\n",
    "\n",
    " #image_path\n",
    "img_path=\"fingerimages/hsv.png\"\n",
    "\n",
    "#read image\n",
    "img_raw = cv2.imread(img_path)\n",
    "\n",
    "\n",
    "#cv2.namedWindow(\"output\", cv2.WINDOW_NORMAL)        # Create window with freedom of dimensions\n",
    "img2=cv2.imread(\"fingerimages/hsv.png\",1)                      # Read image\n",
    "imS = cv2.resize(img2, (1366, 768))                    # Resize image\n",
    "img_raw2=cv2.imwrite( \"output.png\",imS)  # Show image\n",
    "img_raw1=cv2.imread(\"output.png\")\n",
    "\n",
    "#select ROI function\n",
    "roi = cv2.selectROI(img_raw1)\n",
    "\n",
    "#print rectangle points of selected roi\n",
    "print(roi)\n",
    "\n",
    "#Crop selected roi from raw image\n",
    "roi_cropped = img_raw1[int(roi[1]):int(roi[1]+roi[3]), int(roi[0]):int(roi[0]+roi[2])]\n",
    "\n",
    "#show cropped image\n",
    "#cv2.imshow(\"ROI\", roi_cropped)\n",
    "\n",
    "cv2.imwrite(\"crop.jpeg\",roi_cropped)\n",
    "plt.imshow(roi_cropped)\n",
    "\n",
    "#hold window\n",
    "#cv2.waitKey(0)"
   ]
  },
  {
   "cell_type": "markdown",
   "id": "a26c249a",
   "metadata": {},
   "source": [
    "# grayscale conversion"
   ]
  },
  {
   "cell_type": "code",
   "execution_count": 2,
   "id": "137e5db2",
   "metadata": {},
   "outputs": [],
   "source": [
    "from PIL import Image\n",
    "\n",
    "img = Image.open('crop.jpeg')\n",
    "imgGray = img.convert('L')\n",
    "imgGray.save('test_gray.jpg')\n",
    "imgGray.show()"
   ]
  },
  {
   "cell_type": "markdown",
   "id": "eed3278f",
   "metadata": {},
   "source": [
    "# image enhancement\n"
   ]
  },
  {
   "cell_type": "code",
   "execution_count": 1,
   "id": "0c2c233d",
   "metadata": {},
   "outputs": [],
   "source": [
    "# This will import Image and ImageEnhance modules\n",
    "from PIL import Image, ImageEnhance\n",
    "\n",
    "# Opening Image\n",
    "im = Image.open(\"test_gray.jpg\")\n",
    "\n",
    "# Creating object of Brightness class\n",
    "im3=ImageEnhance.Sharpness(im)\n",
    "im4=im3.enhance(135).show()\n",
    "\n",
    "#im5 = ImageEnhance.Contrast(im4)\n",
    "\n",
    "# showing resultant image\n",
    "#im5.enhance(0.0).show()\n"
   ]
  },
  {
   "cell_type": "markdown",
   "id": "60049b18",
   "metadata": {},
   "source": [
    "# SEGMENTATION"
   ]
  },
  {
   "cell_type": "code",
   "execution_count": null,
   "id": "d5e8eab3",
   "metadata": {},
   "outputs": [],
   "source": [
    "# This will import Image and ImageEnhance modules\n",
    "from PIL import Image, ImageEnhance , ImageOps\n",
    "import cv2\n",
    "\n",
    "# Opening Image\n",
    "im = Image.open(\"test_gray.jpg\")\n",
    "# Creating object of Brightness class\n",
    "im3=ImageEnhance.Sharpness(im)\n",
    "im4 = im3.enhance(135)\n",
    "im4.save(\"fingerimages/im4.jpg\")\n",
    "\n",
    "\n",
    "\n",
    "import fingerprint_enhancer\t\t\t\t\t\t\t\t# Load the library\n",
    "img = cv2.imread('fingerimages/im4.jpg', 0)\t\t\t\t\t\t# read input image\n",
    "img = cv2.resize(img, (250, 350))\n",
    "cv2.imshow('', img)\n",
    "out = fingerprint_enhancer.enhance_Fingerprint(img)\t\t# enhance the fingerprint image\n",
    "cv2.imwrite('fingerimages/enhanced_image.jpg', out)\n",
    "cv2.imshow('fingerimages/enhanced_image', out);\t\t\t\t\t\t# display the result\n",
    "cv2.waitKey(0)\n",
    "#im5 = ImageEnhance.Contrast(out)\n",
    "\n",
    "# showing resultant image\n",
    "#im5.enhance(0.0).show()\n",
    "\n",
    "\n",
    "#image_invert=ImageOps.invert(out)\n",
    "#cv2.imwrite('fingerprintimages/inverted_image.jpg',out)\n",
    "#cv2.imshow('fingerprintimages/inverted_image',out)"
   ]
  },
  {
   "cell_type": "code",
   "execution_count": null,
   "id": "bc9b8c22",
   "metadata": {},
   "outputs": [],
   "source": []
  }
 ],
 "metadata": {
  "kernelspec": {
   "display_name": "Python 3",
   "language": "python",
   "name": "python3"
  },
  "language_info": {
   "codemirror_mode": {
    "name": "ipython",
    "version": 3
   },
   "file_extension": ".py",
   "mimetype": "text/x-python",
   "name": "python",
   "nbconvert_exporter": "python",
   "pygments_lexer": "ipython3",
   "version": "3.8.5"
  }
 },
 "nbformat": 4,
 "nbformat_minor": 5
}
